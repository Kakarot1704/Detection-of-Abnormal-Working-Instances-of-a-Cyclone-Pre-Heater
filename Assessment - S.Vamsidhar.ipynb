{
 "cells": [
  {
   "cell_type": "markdown",
   "id": "2480089d",
   "metadata": {},
   "source": [
    "# ExactSpace Data Science Internship Assessment\n",
    "\n",
    "\n",
    "# Done By: S. Vamsidhar"
   ]
  },
  {
   "cell_type": "markdown",
   "id": "9870d64f",
   "metadata": {},
   "source": [
    "## Contents of this notebook\n",
    "\n",
    "## 1. Data Pre-Processing\n",
    "\n",
    "## 2. Data Visualizations\n",
    "\n",
    "## 3. Abnormal Conditions Detection"
   ]
  },
  {
   "cell_type": "markdown",
   "id": "2867c348",
   "metadata": {},
   "source": [
    "## Data Pre-Processing Part"
   ]
  },
  {
   "cell_type": "code",
   "execution_count": 1,
   "id": "f6c5be10",
   "metadata": {},
   "outputs": [],
   "source": [
    "# Importing the required packages\n",
    "\n",
    "import numpy as np\n",
    "import pandas as pd\n",
    "import matplotlib.pyplot as plt\n",
    "import seaborn as sns\n",
    "from sklearn.neighbors import LocalOutlierFactor\n",
    "from datetime import datetime"
   ]
  },
  {
   "cell_type": "code",
   "execution_count": 2,
   "id": "2966f2da",
   "metadata": {},
   "outputs": [
    {
     "name": "stderr",
     "output_type": "stream",
     "text": [
      "C:\\Users\\vamsi\\anaconda3\\lib\\site-packages\\openpyxl\\worksheet\\_reader.py:312: UserWarning: Unknown extension is not supported and will be removed\n",
      "  warn(msg)\n"
     ]
    }
   ],
   "source": [
    "# Reading and Understanding the data\n",
    "\n",
    "data = pd.read_excel(\"data.xlsx\")"
   ]
  },
  {
   "cell_type": "code",
   "execution_count": 3,
   "id": "e248f642",
   "metadata": {},
   "outputs": [
    {
     "data": {
      "text/html": [
       "<div>\n",
       "<style scoped>\n",
       "    .dataframe tbody tr th:only-of-type {\n",
       "        vertical-align: middle;\n",
       "    }\n",
       "\n",
       "    .dataframe tbody tr th {\n",
       "        vertical-align: top;\n",
       "    }\n",
       "\n",
       "    .dataframe thead th {\n",
       "        text-align: right;\n",
       "    }\n",
       "</style>\n",
       "<table border=\"1\" class=\"dataframe\">\n",
       "  <thead>\n",
       "    <tr style=\"text-align: right;\">\n",
       "      <th></th>\n",
       "      <th>time</th>\n",
       "      <th>Cyclone_Inlet_Gas_Temp</th>\n",
       "      <th>Cyclone_Material_Temp</th>\n",
       "      <th>Cyclone_Outlet_Gas_draft</th>\n",
       "      <th>Cyclone_cone_draft</th>\n",
       "      <th>Cyclone_Gas_Outlet_Temp</th>\n",
       "      <th>Cyclone_Inlet_Draft</th>\n",
       "    </tr>\n",
       "  </thead>\n",
       "  <tbody>\n",
       "    <tr>\n",
       "      <th>0</th>\n",
       "      <td>2017-01-01 00:00:00</td>\n",
       "      <td>867.63</td>\n",
       "      <td>910.42</td>\n",
       "      <td>-189.54</td>\n",
       "      <td>-186.04</td>\n",
       "      <td>852.13</td>\n",
       "      <td>-145.9</td>\n",
       "    </tr>\n",
       "    <tr>\n",
       "      <th>1</th>\n",
       "      <td>2017-01-01 00:05:00</td>\n",
       "      <td>879.23</td>\n",
       "      <td>918.14</td>\n",
       "      <td>-184.33</td>\n",
       "      <td>-182.1</td>\n",
       "      <td>862.53</td>\n",
       "      <td>-149.76</td>\n",
       "    </tr>\n",
       "    <tr>\n",
       "      <th>2</th>\n",
       "      <td>2017-01-01 00:10:00</td>\n",
       "      <td>875.67</td>\n",
       "      <td>924.18</td>\n",
       "      <td>-181.26</td>\n",
       "      <td>-166.47</td>\n",
       "      <td>866.06</td>\n",
       "      <td>-145.01</td>\n",
       "    </tr>\n",
       "    <tr>\n",
       "      <th>3</th>\n",
       "      <td>2017-01-01 00:15:00</td>\n",
       "      <td>875.28</td>\n",
       "      <td>923.15</td>\n",
       "      <td>-179.15</td>\n",
       "      <td>-174.83</td>\n",
       "      <td>865.85</td>\n",
       "      <td>-142.82</td>\n",
       "    </tr>\n",
       "    <tr>\n",
       "      <th>4</th>\n",
       "      <td>2017-01-01 00:20:00</td>\n",
       "      <td>891.66</td>\n",
       "      <td>934.26</td>\n",
       "      <td>-178.32</td>\n",
       "      <td>-173.72</td>\n",
       "      <td>876.06</td>\n",
       "      <td>-143.39</td>\n",
       "    </tr>\n",
       "    <tr>\n",
       "      <th>5</th>\n",
       "      <td>2017-01-01 00:25:00</td>\n",
       "      <td>878.54</td>\n",
       "      <td>932.38</td>\n",
       "      <td>-188.37</td>\n",
       "      <td>-177.98</td>\n",
       "      <td>870.31</td>\n",
       "      <td>-146.92</td>\n",
       "    </tr>\n",
       "    <tr>\n",
       "      <th>6</th>\n",
       "      <td>2017-01-01 00:30:00</td>\n",
       "      <td>905.94</td>\n",
       "      <td>951.32</td>\n",
       "      <td>-184.2</td>\n",
       "      <td>-182.67</td>\n",
       "      <td>889.39</td>\n",
       "      <td>-151.83</td>\n",
       "    </tr>\n",
       "    <tr>\n",
       "      <th>7</th>\n",
       "      <td>2017-01-01 00:35:00</td>\n",
       "      <td>877.83</td>\n",
       "      <td>939.63</td>\n",
       "      <td>-184.2</td>\n",
       "      <td>-181.17</td>\n",
       "      <td>875.75</td>\n",
       "      <td>-149.7</td>\n",
       "    </tr>\n",
       "    <tr>\n",
       "      <th>8</th>\n",
       "      <td>2017-01-01 00:40:00</td>\n",
       "      <td>871.01</td>\n",
       "      <td>938.73</td>\n",
       "      <td>-184.2</td>\n",
       "      <td>-181.17</td>\n",
       "      <td>871.35</td>\n",
       "      <td>-145.62</td>\n",
       "    </tr>\n",
       "    <tr>\n",
       "      <th>9</th>\n",
       "      <td>2017-01-01 00:45:00</td>\n",
       "      <td>905.46</td>\n",
       "      <td>939.06</td>\n",
       "      <td>-182.63</td>\n",
       "      <td>-178.23</td>\n",
       "      <td>871.35</td>\n",
       "      <td>-148.88</td>\n",
       "    </tr>\n",
       "  </tbody>\n",
       "</table>\n",
       "</div>"
      ],
      "text/plain": [
       "                 time Cyclone_Inlet_Gas_Temp Cyclone_Material_Temp  \\\n",
       "0 2017-01-01 00:00:00                 867.63                910.42   \n",
       "1 2017-01-01 00:05:00                 879.23                918.14   \n",
       "2 2017-01-01 00:10:00                 875.67                924.18   \n",
       "3 2017-01-01 00:15:00                 875.28                923.15   \n",
       "4 2017-01-01 00:20:00                 891.66                934.26   \n",
       "5 2017-01-01 00:25:00                 878.54                932.38   \n",
       "6 2017-01-01 00:30:00                 905.94                951.32   \n",
       "7 2017-01-01 00:35:00                 877.83                939.63   \n",
       "8 2017-01-01 00:40:00                 871.01                938.73   \n",
       "9 2017-01-01 00:45:00                 905.46                939.06   \n",
       "\n",
       "  Cyclone_Outlet_Gas_draft Cyclone_cone_draft Cyclone_Gas_Outlet_Temp  \\\n",
       "0                  -189.54            -186.04                  852.13   \n",
       "1                  -184.33             -182.1                  862.53   \n",
       "2                  -181.26            -166.47                  866.06   \n",
       "3                  -179.15            -174.83                  865.85   \n",
       "4                  -178.32            -173.72                  876.06   \n",
       "5                  -188.37            -177.98                  870.31   \n",
       "6                   -184.2            -182.67                  889.39   \n",
       "7                   -184.2            -181.17                  875.75   \n",
       "8                   -184.2            -181.17                  871.35   \n",
       "9                  -182.63            -178.23                  871.35   \n",
       "\n",
       "  Cyclone_Inlet_Draft  \n",
       "0              -145.9  \n",
       "1             -149.76  \n",
       "2             -145.01  \n",
       "3             -142.82  \n",
       "4             -143.39  \n",
       "5             -146.92  \n",
       "6             -151.83  \n",
       "7              -149.7  \n",
       "8             -145.62  \n",
       "9             -148.88  "
      ]
     },
     "execution_count": 3,
     "metadata": {},
     "output_type": "execute_result"
    }
   ],
   "source": [
    "data.head(10)"
   ]
  },
  {
   "cell_type": "code",
   "execution_count": 4,
   "id": "d5fa55ac",
   "metadata": {},
   "outputs": [
    {
     "data": {
      "text/plain": [
       "(377719, 7)"
      ]
     },
     "execution_count": 4,
     "metadata": {},
     "output_type": "execute_result"
    }
   ],
   "source": [
    "data.shape"
   ]
  },
  {
   "cell_type": "code",
   "execution_count": 5,
   "id": "0fa57cc7",
   "metadata": {},
   "outputs": [
    {
     "data": {
      "text/plain": [
       "time                        datetime64[ns]\n",
       "Cyclone_Inlet_Gas_Temp              object\n",
       "Cyclone_Material_Temp               object\n",
       "Cyclone_Outlet_Gas_draft            object\n",
       "Cyclone_cone_draft                  object\n",
       "Cyclone_Gas_Outlet_Temp             object\n",
       "Cyclone_Inlet_Draft                 object\n",
       "dtype: object"
      ]
     },
     "execution_count": 5,
     "metadata": {},
     "output_type": "execute_result"
    }
   ],
   "source": [
    "data.dtypes"
   ]
  },
  {
   "cell_type": "code",
   "execution_count": 6,
   "id": "3b3136a8",
   "metadata": {},
   "outputs": [
    {
     "data": {
      "text/plain": [
       "time                        377719\n",
       "Cyclone_Inlet_Gas_Temp       39736\n",
       "Cyclone_Material_Temp        39662\n",
       "Cyclone_Outlet_Gas_draft     27669\n",
       "Cyclone_cone_draft           26487\n",
       "Cyclone_Gas_Outlet_Temp      48044\n",
       "Cyclone_Inlet_Draft          24010\n",
       "dtype: int64"
      ]
     },
     "execution_count": 6,
     "metadata": {},
     "output_type": "execute_result"
    }
   ],
   "source": [
    "data.nunique()"
   ]
  },
  {
   "cell_type": "code",
   "execution_count": 7,
   "id": "1bf7561f",
   "metadata": {},
   "outputs": [
    {
     "name": "stdout",
     "output_type": "stream",
     "text": [
      "['I/O Timeout' 'Not Connect' 'Scan Timeout' 'Configure' 'Comm Fail']\n"
     ]
    }
   ],
   "source": [
    "# Finding out if any textual (categorical) data is present so that it can be treated\n",
    "\n",
    "textual_values = data.loc[data['Cyclone_cone_draft'].apply(lambda x: isinstance(x, str)), 'Cyclone_cone_draft'].unique()\n",
    "print(textual_values)"
   ]
  },
  {
   "cell_type": "markdown",
   "id": "7f3426c0",
   "metadata": {},
   "source": [
    "#### These instances of categorical data can be definitely considered as abnormal operations as they occur due to technical issues from the industry side."
   ]
  },
  {
   "cell_type": "code",
   "execution_count": 8,
   "id": "3ea2f81a",
   "metadata": {},
   "outputs": [
    {
     "name": "stdout",
     "output_type": "stream",
     "text": [
      "(470, 7)\n"
     ]
    }
   ],
   "source": [
    "# Checking out the number of instances of those categorical data\n",
    "\n",
    "print(data.loc[data['Cyclone_cone_draft'] == 'I/O Timeout'].shape)"
   ]
  },
  {
   "cell_type": "code",
   "execution_count": 9,
   "id": "ec58cd2d",
   "metadata": {},
   "outputs": [
    {
     "name": "stdout",
     "output_type": "stream",
     "text": [
      "(470, 7)\n"
     ]
    }
   ],
   "source": [
    "print(data.loc[data['Cyclone_Material_Temp'] == 'I/O Timeout'].shape)"
   ]
  },
  {
   "cell_type": "code",
   "execution_count": 10,
   "id": "cb024555",
   "metadata": {},
   "outputs": [
    {
     "name": "stdout",
     "output_type": "stream",
     "text": [
      "(723, 7)\n"
     ]
    }
   ],
   "source": [
    "print(data.loc[data['Cyclone_cone_draft'] == 'Not Connect'].shape)"
   ]
  },
  {
   "cell_type": "code",
   "execution_count": 11,
   "id": "f5ba6792",
   "metadata": {},
   "outputs": [
    {
     "name": "stdout",
     "output_type": "stream",
     "text": [
      "(723, 7)\n"
     ]
    }
   ],
   "source": [
    "print(data.loc[data['Cyclone_Material_Temp'] == 'Not Connect'].shape)"
   ]
  },
  {
   "cell_type": "code",
   "execution_count": 12,
   "id": "3217f7c7",
   "metadata": {},
   "outputs": [],
   "source": [
    "# Treating the data so that it contains only numeric data types along with the \"time\" variable making \n",
    "# further investigation possible as with the presence of textual data, anomaly detection isn't possible. \n",
    "# This method converts all textual instances to NaN\n",
    "\n",
    "data.iloc[:, 1:7] = data.iloc[:, 1:7].apply(pd.to_numeric, errors = \"coerce\")"
   ]
  },
  {
   "cell_type": "code",
   "execution_count": 13,
   "id": "ea44efc3",
   "metadata": {},
   "outputs": [
    {
     "data": {
      "text/plain": [
       "time                        datetime64[ns]\n",
       "Cyclone_Inlet_Gas_Temp             float64\n",
       "Cyclone_Material_Temp              float64\n",
       "Cyclone_Outlet_Gas_draft           float64\n",
       "Cyclone_cone_draft                 float64\n",
       "Cyclone_Gas_Outlet_Temp            float64\n",
       "Cyclone_Inlet_Draft                float64\n",
       "dtype: object"
      ]
     },
     "execution_count": 13,
     "metadata": {},
     "output_type": "execute_result"
    }
   ],
   "source": [
    "data.dtypes"
   ]
  },
  {
   "cell_type": "code",
   "execution_count": 14,
   "id": "3ea7a3d2",
   "metadata": {},
   "outputs": [
    {
     "data": {
      "text/plain": [
       "time                           0\n",
       "Cyclone_Inlet_Gas_Temp      1320\n",
       "Cyclone_Material_Temp       1591\n",
       "Cyclone_Outlet_Gas_draft    1321\n",
       "Cyclone_cone_draft          1320\n",
       "Cyclone_Gas_Outlet_Temp     1321\n",
       "Cyclone_Inlet_Draft         1322\n",
       "dtype: int64"
      ]
     },
     "execution_count": 14,
     "metadata": {},
     "output_type": "execute_result"
    }
   ],
   "source": [
    "# Checking for null values and removing them as they interrupt our investigation and won't be of much use\n",
    "\n",
    "data.isnull().sum()"
   ]
  },
  {
   "cell_type": "code",
   "execution_count": 15,
   "id": "b4bc01bb",
   "metadata": {},
   "outputs": [],
   "source": [
    "data = data.dropna()"
   ]
  },
  {
   "cell_type": "code",
   "execution_count": 16,
   "id": "4c68d1a5",
   "metadata": {},
   "outputs": [
    {
     "data": {
      "text/plain": [
       "time                        0\n",
       "Cyclone_Inlet_Gas_Temp      0\n",
       "Cyclone_Material_Temp       0\n",
       "Cyclone_Outlet_Gas_draft    0\n",
       "Cyclone_cone_draft          0\n",
       "Cyclone_Gas_Outlet_Temp     0\n",
       "Cyclone_Inlet_Draft         0\n",
       "dtype: int64"
      ]
     },
     "execution_count": 16,
     "metadata": {},
     "output_type": "execute_result"
    }
   ],
   "source": [
    "data.isnull().sum()"
   ]
  },
  {
   "cell_type": "code",
   "execution_count": 17,
   "id": "61fa538b",
   "metadata": {},
   "outputs": [
    {
     "data": {
      "text/plain": [
       "(376124, 7)"
      ]
     },
     "execution_count": 17,
     "metadata": {},
     "output_type": "execute_result"
    }
   ],
   "source": [
    "data.shape"
   ]
  },
  {
   "cell_type": "code",
   "execution_count": 18,
   "id": "15422cda",
   "metadata": {
    "scrolled": true
   },
   "outputs": [
    {
     "data": {
      "text/html": [
       "<div>\n",
       "<style scoped>\n",
       "    .dataframe tbody tr th:only-of-type {\n",
       "        vertical-align: middle;\n",
       "    }\n",
       "\n",
       "    .dataframe tbody tr th {\n",
       "        vertical-align: top;\n",
       "    }\n",
       "\n",
       "    .dataframe thead th {\n",
       "        text-align: right;\n",
       "    }\n",
       "</style>\n",
       "<table border=\"1\" class=\"dataframe\">\n",
       "  <thead>\n",
       "    <tr style=\"text-align: right;\">\n",
       "      <th></th>\n",
       "      <th>Cyclone_Inlet_Gas_Temp</th>\n",
       "      <th>Cyclone_Material_Temp</th>\n",
       "      <th>Cyclone_Outlet_Gas_draft</th>\n",
       "      <th>Cyclone_cone_draft</th>\n",
       "      <th>Cyclone_Gas_Outlet_Temp</th>\n",
       "      <th>Cyclone_Inlet_Draft</th>\n",
       "    </tr>\n",
       "  </thead>\n",
       "  <tbody>\n",
       "    <tr>\n",
       "      <th>count</th>\n",
       "      <td>376124.000000</td>\n",
       "      <td>376124.000000</td>\n",
       "      <td>376124.000000</td>\n",
       "      <td>376124.000000</td>\n",
       "      <td>376124.000000</td>\n",
       "      <td>376124.000000</td>\n",
       "    </tr>\n",
       "    <tr>\n",
       "      <th>mean</th>\n",
       "      <td>727.387946</td>\n",
       "      <td>750.828429</td>\n",
       "      <td>-177.830733</td>\n",
       "      <td>-164.582678</td>\n",
       "      <td>715.798475</td>\n",
       "      <td>-141.309826</td>\n",
       "    </tr>\n",
       "    <tr>\n",
       "      <th>std</th>\n",
       "      <td>328.634044</td>\n",
       "      <td>350.922335</td>\n",
       "      <td>99.138694</td>\n",
       "      <td>90.096403</td>\n",
       "      <td>325.316433</td>\n",
       "      <td>77.609444</td>\n",
       "    </tr>\n",
       "    <tr>\n",
       "      <th>min</th>\n",
       "      <td>0.000000</td>\n",
       "      <td>-185.000000</td>\n",
       "      <td>-456.660000</td>\n",
       "      <td>-459.310000</td>\n",
       "      <td>13.790000</td>\n",
       "      <td>-396.370000</td>\n",
       "    </tr>\n",
       "    <tr>\n",
       "      <th>25%</th>\n",
       "      <td>856.280000</td>\n",
       "      <td>867.660000</td>\n",
       "      <td>-247.190000</td>\n",
       "      <td>-226.770000</td>\n",
       "      <td>802.040000</td>\n",
       "      <td>-193.510000</td>\n",
       "    </tr>\n",
       "    <tr>\n",
       "      <th>50%</th>\n",
       "      <td>882.380000</td>\n",
       "      <td>913.360000</td>\n",
       "      <td>-215.260000</td>\n",
       "      <td>-198.570000</td>\n",
       "      <td>871.530000</td>\n",
       "      <td>-169.460000</td>\n",
       "    </tr>\n",
       "    <tr>\n",
       "      <th>75%</th>\n",
       "      <td>901.120000</td>\n",
       "      <td>943.660000</td>\n",
       "      <td>-170.150000</td>\n",
       "      <td>-143.680000</td>\n",
       "      <td>899.300000</td>\n",
       "      <td>-136.310000</td>\n",
       "    </tr>\n",
       "    <tr>\n",
       "      <th>max</th>\n",
       "      <td>1157.630000</td>\n",
       "      <td>1375.000000</td>\n",
       "      <td>40.270000</td>\n",
       "      <td>488.860000</td>\n",
       "      <td>1375.000000</td>\n",
       "      <td>41.640000</td>\n",
       "    </tr>\n",
       "  </tbody>\n",
       "</table>\n",
       "</div>"
      ],
      "text/plain": [
       "       Cyclone_Inlet_Gas_Temp  Cyclone_Material_Temp  \\\n",
       "count           376124.000000          376124.000000   \n",
       "mean               727.387946             750.828429   \n",
       "std                328.634044             350.922335   \n",
       "min                  0.000000            -185.000000   \n",
       "25%                856.280000             867.660000   \n",
       "50%                882.380000             913.360000   \n",
       "75%                901.120000             943.660000   \n",
       "max               1157.630000            1375.000000   \n",
       "\n",
       "       Cyclone_Outlet_Gas_draft  Cyclone_cone_draft  Cyclone_Gas_Outlet_Temp  \\\n",
       "count             376124.000000       376124.000000            376124.000000   \n",
       "mean                -177.830733         -164.582678               715.798475   \n",
       "std                   99.138694           90.096403               325.316433   \n",
       "min                 -456.660000         -459.310000                13.790000   \n",
       "25%                 -247.190000         -226.770000               802.040000   \n",
       "50%                 -215.260000         -198.570000               871.530000   \n",
       "75%                 -170.150000         -143.680000               899.300000   \n",
       "max                   40.270000          488.860000              1375.000000   \n",
       "\n",
       "       Cyclone_Inlet_Draft  \n",
       "count        376124.000000  \n",
       "mean           -141.309826  \n",
       "std              77.609444  \n",
       "min            -396.370000  \n",
       "25%            -193.510000  \n",
       "50%            -169.460000  \n",
       "75%            -136.310000  \n",
       "max              41.640000  "
      ]
     },
     "execution_count": 18,
     "metadata": {},
     "output_type": "execute_result"
    }
   ],
   "source": [
    "# Understanding some basic statistical insights about the data\n",
    "\n",
    "data.describe()"
   ]
  },
  {
   "cell_type": "markdown",
   "id": "035ad12a",
   "metadata": {},
   "source": [
    "#### Now that we are done with the data pre-processing part, let's move on to the data visualization part"
   ]
  },
  {
   "cell_type": "markdown",
   "id": "fd6e9dba",
   "metadata": {},
   "source": [
    "## Data Visualization Part"
   ]
  },
  {
   "cell_type": "markdown",
   "id": "2a92e93a",
   "metadata": {},
   "source": [
    "#### Now we will be doing some univariate analysis on individual numeric variables to find out the distribution of the variable's values "
   ]
  },
  {
   "cell_type": "code",
   "execution_count": 19,
   "id": "24122b77",
   "metadata": {},
   "outputs": [
    {
     "name": "stderr",
     "output_type": "stream",
     "text": [
      "C:\\Users\\vamsi\\AppData\\Local\\Temp\\ipykernel_5372\\3481286058.py:3: UserWarning: \n",
      "\n",
      "`distplot` is a deprecated function and will be removed in seaborn v0.14.0.\n",
      "\n",
      "Please adapt your code to use either `displot` (a figure-level function with\n",
      "similar flexibility) or `histplot` (an axes-level function for histograms).\n",
      "\n",
      "For a guide to updating your code to use the new functions, please see\n",
      "https://gist.github.com/mwaskom/de44147ed2974457ad6372750bbe5751\n",
      "\n",
      "  ax = sns.distplot(data[\"Cyclone_Inlet_Gas_Temp\"], color = 'g')\n"
     ]
    },
    {
     "data": {
      "image/png": "[encoded data removed]",
      "text/plain": [
       "<Figure size 864x360 with 1 Axes>"
      ]
     },
     "metadata": {
      "needs_background": "light"
     },
     "output_type": "display_data"
    }
   ],
   "source": [
    "plt.figure(figsize=(12,5))\n",
    "plt.title(\"Distribution of Inlet Gas Temperature\")\n",
    "ax = sns.distplot(data[\"Cyclone_Inlet_Gas_Temp\"], color = 'g')"
   ]
  },
  {
   "cell_type": "code",
   "execution_count": 20,
   "id": "3e93c95c",
   "metadata": {},
   "outputs": [
    {
     "name": "stderr",
     "output_type": "stream",
     "text": [
      "C:\\Users\\vamsi\\AppData\\Local\\Temp\\ipykernel_5372\\3491846388.py:3: UserWarning: \n",
      "\n",
      "`distplot` is a deprecated function and will be removed in seaborn v0.14.0.\n",
      "\n",
      "Please adapt your code to use either `displot` (a figure-level function with\n",
      "similar flexibility) or `histplot` (an axes-level function for histograms).\n",
      "\n",
      "For a guide to updating your code to use the new functions, please see\n",
      "https://gist.github.com/mwaskom/de44147ed2974457ad6372750bbe5751\n",
      "\n",
      "  ax = sns.distplot(data[\"Cyclone_Material_Temp\"], color = 'c')\n"
     ]
    },
    {
     "data": {
      "image/png": "[encoded data removed]",
      "text/plain": [
       "<Figure size 864x360 with 1 Axes>"
      ]
     },
     "metadata": {
      "needs_background": "light"
     },
     "output_type": "display_data"
    }
   ],
   "source": [
    "plt.figure(figsize=(12,5))\n",
    "plt.title(\"Distribution of Material Temperature\")\n",
    "ax = sns.distplot(data[\"Cyclone_Material_Temp\"], color = 'c')"
   ]
  },
  {
   "cell_type": "code",
   "execution_count": 21,
   "id": "fccac38d",
   "metadata": {},
   "outputs": [
    {
     "name": "stderr",
     "output_type": "stream",
     "text": [
      "C:\\Users\\vamsi\\AppData\\Local\\Temp\\ipykernel_5372\\359786396.py:3: UserWarning: \n",
      "\n",
      "`distplot` is a deprecated function and will be removed in seaborn v0.14.0.\n",
      "\n",
      "Please adapt your code to use either `displot` (a figure-level function with\n",
      "similar flexibility) or `histplot` (an axes-level function for histograms).\n",
      "\n",
      "For a guide to updating your code to use the new functions, please see\n",
      "https://gist.github.com/mwaskom/de44147ed2974457ad6372750bbe5751\n",
      "\n",
      "  ax = sns.distplot(data[\"Cyclone_Gas_Outlet_Temp\"], color = 'r')\n"
     ]
    },
    {
     "data": {
      "image/png": "[encoded data removed]",
      "text/plain": [
       "<Figure size 864x360 with 1 Axes>"
      ]
     },
     "metadata": {
      "needs_background": "light"
     },
     "output_type": "display_data"
    }
   ],
   "source": [
    "plt.figure(figsize=(12,5))\n",
    "plt.title(\"Distribution of Outlet Gas Temperature\")\n",
    "ax = sns.distplot(data[\"Cyclone_Gas_Outlet_Temp\"], color = 'r')"
   ]
  },
  {
   "cell_type": "code",
   "execution_count": 22,
   "id": "402c26ef",
   "metadata": {},
   "outputs": [
    {
     "name": "stderr",
     "output_type": "stream",
     "text": [
      "C:\\Users\\vamsi\\AppData\\Local\\Temp\\ipykernel_5372\\3639347078.py:3: UserWarning: \n",
      "\n",
      "`distplot` is a deprecated function and will be removed in seaborn v0.14.0.\n",
      "\n",
      "Please adapt your code to use either `displot` (a figure-level function with\n",
      "similar flexibility) or `histplot` (an axes-level function for histograms).\n",
      "\n",
      "For a guide to updating your code to use the new functions, please see\n",
      "https://gist.github.com/mwaskom/de44147ed2974457ad6372750bbe5751\n",
      "\n",
      "  ax = sns.distplot(data[\"Cyclone_Inlet_Draft\"], color = 'm')\n"
     ]
    },
    {
     "data": {
      "image/png": "[encoded data removed]",
      "text/plain": [
       "<Figure size 864x360 with 1 Axes>"
      ]
     },
     "metadata": {
      "needs_background": "light"
     },
     "output_type": "display_data"
    }
   ],
   "source": [
    "plt.figure(figsize=(12,5))\n",
    "plt.title(\"Distribution of Inlet Gas Draft\")\n",
    "ax = sns.distplot(data[\"Cyclone_Inlet_Draft\"], color = 'm')"
   ]
  },
  {
   "cell_type": "code",
   "execution_count": 23,
   "id": "6404971b",
   "metadata": {},
   "outputs": [
    {
     "name": "stderr",
     "output_type": "stream",
     "text": [
      "C:\\Users\\vamsi\\AppData\\Local\\Temp\\ipykernel_5372\\703651448.py:3: UserWarning: \n",
      "\n",
      "`distplot` is a deprecated function and will be removed in seaborn v0.14.0.\n",
      "\n",
      "Please adapt your code to use either `displot` (a figure-level function with\n",
      "similar flexibility) or `histplot` (an axes-level function for histograms).\n",
      "\n",
      "For a guide to updating your code to use the new functions, please see\n",
      "https://gist.github.com/mwaskom/de44147ed2974457ad6372750bbe5751\n",
      "\n",
      "  ax = sns.distplot(data[\"Cyclone_cone_draft\"], color = 'b')\n"
     ]
    },
    {
     "data": {
      "image/png": "[encoded data removed]",
      "text/plain": [
       "<Figure size 864x360 with 1 Axes>"
      ]
     },
     "metadata": {
      "needs_background": "light"
     },
     "output_type": "display_data"
    }
   ],
   "source": [
    "plt.figure(figsize=(12,5))\n",
    "plt.title(\"Distribution of Cone Draft\")\n",
    "ax = sns.distplot(data[\"Cyclone_cone_draft\"], color = 'b')"
   ]
  },
  {
   "cell_type": "code",
   "execution_count": 24,
   "id": "8512be0f",
   "metadata": {},
   "outputs": [
    {
     "name": "stderr",
     "output_type": "stream",
     "text": [
      "C:\\Users\\vamsi\\AppData\\Local\\Temp\\ipykernel_5372\\2071539827.py:3: UserWarning: \n",
      "\n",
      "`distplot` is a deprecated function and will be removed in seaborn v0.14.0.\n",
      "\n",
      "Please adapt your code to use either `displot` (a figure-level function with\n",
      "similar flexibility) or `histplot` (an axes-level function for histograms).\n",
      "\n",
      "For a guide to updating your code to use the new functions, please see\n",
      "https://gist.github.com/mwaskom/de44147ed2974457ad6372750bbe5751\n",
      "\n",
      "  ax = sns.distplot(data[\"Cyclone_Outlet_Gas_draft\"], color = 'y')\n"
     ]
    },
    {
     "data": {
      "image/png": "[encoded data removed]",
      "text/plain": [
       "<Figure size 864x360 with 1 Axes>"
      ]
     },
     "metadata": {
      "needs_background": "light"
     },
     "output_type": "display_data"
    }
   ],
   "source": [
    "plt.figure(figsize=(12,5))\n",
    "plt.title(\"Distribution of Outlet Gas Draft\")\n",
    "ax = sns.distplot(data[\"Cyclone_Outlet_Gas_draft\"], color = 'y')"
   ]
  },
  {
   "cell_type": "markdown",
   "id": "61a027c8",
   "metadata": {},
   "source": [
    "#### By observing the above plots, we can find that there are some instances that stand out from the crowd making them look apparently abnormal (are they none other than outliers?). In order to confirm this claim, we need to do some statistical work"
   ]
  },
  {
   "cell_type": "markdown",
   "id": "1904b061",
   "metadata": {},
   "source": [
    "#### Now, let's do some bivariate analysis to check the same. We will be using line graphs in this context"
   ]
  },
  {
   "cell_type": "code",
   "execution_count": 25,
   "id": "565f62a4",
   "metadata": {},
   "outputs": [
    {
     "data": {
      "image/png": "[encoded data removed]",
      "text/plain": [
       "<Figure size 1296x432 with 1 Axes>"
      ]
     },
     "metadata": {
      "needs_background": "light"
     },
     "output_type": "display_data"
    }
   ],
   "source": [
    "plt.figure(figsize=(18,6))\n",
    "\n",
    "plt.plot(data['time'], data['Cyclone_Inlet_Gas_Temp'], color = \"red\")\n",
    "\n",
    "# Set labels and title\n",
    "plt.xlabel('Cyclone Inlet Gas Temperature')\n",
    "plt.ylabel('Distribution of Values')\n",
    "plt.title('Line Graph')\n",
    "\n",
    "# Display the line graph\n",
    "plt.show()"
   ]
  },
  {
   "cell_type": "code",
   "execution_count": 26,
   "id": "3c0dc0f5",
   "metadata": {},
   "outputs": [
    {
     "data": {
      "image/png": "[encoded data removed]",
      "text/plain": [
       "<Figure size 1296x432 with 1 Axes>"
      ]
     },
     "metadata": {
      "needs_background": "light"
     },
     "output_type": "display_data"
    }
   ],
   "source": [
    "plt.figure(figsize=(18,6))\n",
    "\n",
    "plt.plot(data['time'], data['Cyclone_Outlet_Gas_draft'], color = \"maroon\")\n",
    "\n",
    "# Set labels and title\n",
    "plt.xlabel('Cyclone Outlet Gas Draft')\n",
    "plt.ylabel('Distribution of Values')\n",
    "plt.title('Line Graph')\n",
    "\n",
    "# Display the line graph\n",
    "plt.show()"
   ]
  },
  {
   "cell_type": "code",
   "execution_count": 27,
   "id": "17c4feee",
   "metadata": {},
   "outputs": [
    {
     "data": {
      "image/png": "[encoded data removed]",
      "text/plain": [
       "<Figure size 1296x432 with 1 Axes>"
      ]
     },
     "metadata": {
      "needs_background": "light"
     },
     "output_type": "display_data"
    }
   ],
   "source": [
    "plt.figure(figsize=(18,6))\n",
    "\n",
    "plt.plot(data['time'], data['Cyclone_Material_Temp'], color = \"magenta\")\n",
    "\n",
    "# Set labels and title\n",
    "plt.xlabel('Cyclone Material Temperature')\n",
    "plt.ylabel('Distribution of Values')\n",
    "plt.title('Line Graph')\n",
    "\n",
    "# Display the line graph\n",
    "plt.show()"
   ]
  },
  {
   "cell_type": "code",
   "execution_count": 28,
   "id": "29d22bcf",
   "metadata": {},
   "outputs": [
    {
     "data": {
      "image/png": "[encoded data removed]",
      "text/plain": [
       "<Figure size 1296x432 with 1 Axes>"
      ]
     },
     "metadata": {
      "needs_background": "light"
     },
     "output_type": "display_data"
    }
   ],
   "source": [
    "plt.figure(figsize=(18,6))\n",
    "\n",
    "plt.plot(data['time'], data['Cyclone_Inlet_Draft'], color = \"orange\")\n",
    "\n",
    "# Set labels and title\n",
    "plt.xlabel('Cyclone Inlet Draft')\n",
    "plt.ylabel('Distribution of Values')\n",
    "plt.title('Line Graph')\n",
    "\n",
    "# Display the line graph\n",
    "plt.show()"
   ]
  },
  {
   "cell_type": "code",
   "execution_count": 29,
   "id": "2a297c25",
   "metadata": {},
   "outputs": [
    {
     "data": {
      "image/png": "[encoded data removed]",
      "text/plain": [
       "<Figure size 1296x432 with 1 Axes>"
      ]
     },
     "metadata": {
      "needs_background": "light"
     },
     "output_type": "display_data"
    }
   ],
   "source": [
    "plt.figure(figsize=(18,6))\n",
    "\n",
    "plt.plot(data['time'], data['Cyclone_cone_draft'], color = \"brown\")\n",
    "\n",
    "# Set labels and title\n",
    "plt.xlabel('Cyclone Cone Draft')\n",
    "plt.ylabel('Distribution of Values')\n",
    "plt.title('Line Graph')\n",
    "\n",
    "# Display the line graph\n",
    "plt.show()"
   ]
  },
  {
   "cell_type": "code",
   "execution_count": 30,
   "id": "ea8d989a",
   "metadata": {
    "scrolled": false
   },
   "outputs": [
    {
     "data": {
      "image/png": "[encoded data removed]",
      "text/plain": [
       "<Figure size 1296x432 with 1 Axes>"
      ]
     },
     "metadata": {
      "needs_background": "light"
     },
     "output_type": "display_data"
    }
   ],
   "source": [
    "plt.figure(figsize=(18,6))\n",
    "\n",
    "plt.plot(data['time'], data['Cyclone_Gas_Outlet_Temp'], color = \"violet\")\n",
    "\n",
    "# Set labels and title\n",
    "plt.xlabel('Cyclone Outlet Gas Temperature')\n",
    "plt.ylabel('Distribution of Values')\n",
    "plt.title('Line Graph')\n",
    "\n",
    "# Display the line graph\n",
    "plt.show()"
   ]
  },
  {
   "cell_type": "markdown",
   "id": "22e2ea49",
   "metadata": {},
   "source": [
    "#### The same as the case of univariate analysis can be observed here i.e. apparent abnormal instances"
   ]
  },
  {
   "cell_type": "markdown",
   "id": "5c67df36",
   "metadata": {},
   "source": [
    "#### Now, let's do some mutli-variate analysis to check the same. We will be using collective boxplots in this context"
   ]
  },
  {
   "cell_type": "code",
   "execution_count": 31,
   "id": "6b7de8a0",
   "metadata": {},
   "outputs": [
    {
     "data": {
      "text/plain": [
       "Text(0, 0.5, 'Distribution of Values')"
      ]
     },
     "execution_count": 31,
     "metadata": {},
     "output_type": "execute_result"
    },
    {
     "data": {
      "image/png": "[encoded data removed]",
      "text/plain": [
       "<Figure size 1296x648 with 1 Axes>"
      ]
     },
     "metadata": {
      "needs_background": "light"
     },
     "output_type": "display_data"
    }
   ],
   "source": [
    "plt.figure(figsize=(18,9))\n",
    "data1 = pd.melt(data.iloc[:, 1:7])\n",
    "\n",
    "# Set labels and title\n",
    "sns.boxplot(x = 'variable', y = 'value', data = data1).set(title = \"Collective Boxplots\")\n",
    "\n",
    "plt.xlabel('Variables')\n",
    "plt.ylabel('Distribution of Values')"
   ]
  },
  {
   "cell_type": "markdown",
   "id": "35c83e23",
   "metadata": {},
   "source": [
    "#### The above visualization confirms the presence of outliers. The bold black data points above and below the extreme whiskers (horizontal lines) of the box plots represent outliers "
   ]
  },
  {
   "cell_type": "markdown",
   "id": "4d40b28e",
   "metadata": {},
   "source": [
    "#### Now, the main question that arises here is, are outliers the abnormal cases we are trying to find? Yes, to some extent. Outliers nearby to the whiskers aren't much of a bother as they are most likely to occur in the case of dynamic working environment conditions"
   ]
  },
  {
   "cell_type": "markdown",
   "id": "2c4da0d3",
   "metadata": {},
   "source": [
    "#### For example, there happens regular cases of high/low temperature/pressure conditions to some extent which are a part and parcel of dynamic factory environment conditions. But, elevated conditions (very high/low temperature/pressure) of the same are considered to be abnormal as they occur due to technical issues which often pose a serious threat to the industry considering the possibility of potential blasts/explosions"
   ]
  },
  {
   "cell_type": "markdown",
   "id": "db7326bd",
   "metadata": {},
   "source": [
    "#### In order to trace out those extreme conditions, we have to find out the outliers somewhat far from the whiskers"
   ]
  },
  {
   "cell_type": "markdown",
   "id": "12b19b93",
   "metadata": {},
   "source": [
    "#### Now that we are done with the data visualization part, let's move on to the abnormal conditions detection part"
   ]
  },
  {
   "cell_type": "markdown",
   "id": "5936d38c",
   "metadata": {},
   "source": [
    "## Abnormal Conditions Detection Part"
   ]
  },
  {
   "cell_type": "markdown",
   "id": "d4d2a891",
   "metadata": {},
   "source": [
    "#### Let's find out the far lying outliers with respect to the whiskers with the help of Z-Score method for each variable"
   ]
  },
  {
   "cell_type": "code",
   "execution_count": 32,
   "id": "39fc69a9",
   "metadata": {},
   "outputs": [
    {
     "name": "stdout",
     "output_type": "stream",
     "text": [
      "The lower limit of normal conditions:  -258.51418652475525\n",
      "The upper limit of normal conditions:  1713.2900789432229\n",
      "Lower Abnormal Cases are:  []\n",
      "Upper Abnormal Cases are:  []\n"
     ]
    }
   ],
   "source": [
    "data2 = data['Cyclone_Inlet_Gas_Temp'] \n",
    "\n",
    "# Z-Score Method\n",
    "\n",
    "upper_bound = data2.mean() + 3 * data2.std() # Right from the mean\n",
    "lower_bound = data2.mean() - 3 * data2.std() # Left from the mean\n",
    "\n",
    "print(\"The lower limit of normal conditions: \", lower_bound)\n",
    "print(\"The upper limit of normal conditions: \", upper_bound)\n",
    "\n",
    "# Identify outliers\n",
    "outliers = [x for x in data2 if x < lower_bound or x > upper_bound]\n",
    "\n",
    "# Sorting the collected outliers\n",
    "outliers.sort()\n",
    "outliers = list(dict.fromkeys(outliers))\n",
    "\n",
    "# Printing the top 15 lower and upper ranged abnormal cases\n",
    "\n",
    "print(\"Lower Abnormal Cases are: \", outliers[0:15])\n",
    "print(\"Upper Abnormal Cases are: \", outliers[-16:-1])"
   ]
  },
  {
   "cell_type": "code",
   "execution_count": 33,
   "id": "53a5a541",
   "metadata": {},
   "outputs": [
    {
     "name": "stdout",
     "output_type": "stream",
     "text": [
      "The lower limit of normal conditions:  70.11985771990771\n",
      "The upper limit of normal conditions:  1384.6560346985598\n",
      "Lower Abnormal Cases are:  [0.0, 14.38, 14.39, 14.4, 14.41, 14.42, 14.45, 14.47, 14.48, 14.49, 14.5, 14.51, 14.52, 14.55, 14.56]\n",
      "Upper Abnormal Cases are:  [69.84, 69.86, 69.87, 69.89, 69.91, 69.92, 69.95, 69.97, 69.98, 69.99, 70.03, 70.04, 70.06, 70.07, 70.09]\n"
     ]
    }
   ],
   "source": [
    "data2 = data['Cyclone_Inlet_Gas_Temp'] \n",
    "\n",
    "# Z-Score Method\n",
    "\n",
    "upper_bound = data2.mean() + 2 * data2.std() # Right from the mean\n",
    "lower_bound = data2.mean() - 2 * data2.std() # Left from the mean\n",
    "\n",
    "print(\"The lower limit of normal conditions: \", lower_bound)\n",
    "print(\"The upper limit of normal conditions: \", upper_bound)\n",
    "\n",
    "# Identify outliers\n",
    "outliers = [x for x in data2 if x < lower_bound or x > upper_bound]\n",
    "\n",
    "# Sorting the collected outliers\n",
    "outliers.sort()\n",
    "outliers = list(dict.fromkeys(outliers))\n",
    "\n",
    "# Printing the top 15 lower and upper ranged abnormal cases\n",
    "\n",
    "print(\"Lower Abnormal Cases are: \", outliers[0:15])\n",
    "print(\"Upper Abnormal Cases are: \", outliers[-16:-1])"
   ]
  },
  {
   "cell_type": "code",
   "execution_count": 34,
   "id": "676f3890",
   "metadata": {},
   "outputs": [
    {
     "name": "stdout",
     "output_type": "stream",
     "text": [
      "The lower limit of normal conditions:  398.75390196457073\n",
      "The upper limit of normal conditions:  1056.0219904538967\n",
      "Lower Abnormal Cases are:  [0.0, 14.38, 14.39, 14.4, 14.41, 14.42, 14.45, 14.47, 14.48, 14.49, 14.5, 14.51, 14.52, 14.55, 14.56]\n",
      "Upper Abnormal Cases are:  [1095.63, 1097.0, 1097.85, 1101.62, 1102.02, 1102.99, 1110.69, 1111.46, 1116.0, 1116.06, 1123.07, 1127.13, 1127.16, 1128.94, 1135.63]\n"
     ]
    }
   ],
   "source": [
    "data2 = data['Cyclone_Inlet_Gas_Temp'] \n",
    "\n",
    "# Z-Score Method\n",
    "\n",
    "upper_bound = data2.mean() + 1 * data2.std() # Right from the mean\n",
    "lower_bound = data2.mean() - 1 * data2.std() # Left from the mean\n",
    "\n",
    "print(\"The lower limit of normal conditions: \", lower_bound)\n",
    "print(\"The upper limit of normal conditions: \", upper_bound)\n",
    "\n",
    "# Identify outliers\n",
    "outliers = [x for x in data2 if x < lower_bound or x > upper_bound]\n",
    "\n",
    "# Sorting the collected outliers\n",
    "outliers.sort()\n",
    "outliers = list(dict.fromkeys(outliers))\n",
    "\n",
    "# Printing the top 15 lower and upper ranged abnormal cases\n",
    "\n",
    "print(\"Lower Abnormal Cases are: \", outliers[0:15])\n",
    "print(\"Upper Abnormal Cases are: \", outliers[-16:-1])"
   ]
  },
  {
   "cell_type": "markdown",
   "id": "7df4c789",
   "metadata": {},
   "source": [
    "#### In this method, data points lying +/- 3 standard deviations away from the mean are considered perfect outliers. But in this case, there are no data points in the outlier range. But, fixing the threshold as +/- 2 standard deviations gives us some decent amout of data points that stand out from the crowd on comparison with the collective boxplot visualization making the points somewhat our so called potential targets"
   ]
  },
  {
   "cell_type": "markdown",
   "id": "b9300346",
   "metadata": {},
   "source": [
    "#### Now, let's do the same for other variables"
   ]
  },
  {
   "cell_type": "code",
   "execution_count": 35,
   "id": "f85113e6",
   "metadata": {},
   "outputs": [
    {
     "name": "stdout",
     "output_type": "stream",
     "text": [
      "The lower limit of normal conditions:  -301.93857500416425\n",
      "The upper limit of normal conditions:  1803.5954338590927\n",
      "Lower Abnormal Cases are:  []\n",
      "Upper Abnormal Cases are:  []\n"
     ]
    }
   ],
   "source": [
    "data2 = data['Cyclone_Material_Temp'] \n",
    "\n",
    "# Z-Score Method\n",
    "\n",
    "upper_bound = data2.mean() + 3 * data2.std() # Right from the mean\n",
    "lower_bound = data2.mean() - 3 * data2.std() # Left from the mean\n",
    "\n",
    "print(\"The lower limit of normal conditions: \", lower_bound)\n",
    "print(\"The upper limit of normal conditions: \", upper_bound)\n",
    "\n",
    "# Identify outliers\n",
    "outliers = [x for x in data2 if x < lower_bound or x > upper_bound]\n",
    "\n",
    "# Sorting the collected outliers\n",
    "outliers.sort()\n",
    "outliers = list(dict.fromkeys(outliers))\n",
    "\n",
    "# Printing the top 15 lower and upper ranged abnormal cases\n",
    "\n",
    "print(\"Lower Abnormal Cases are: \", outliers[0:15])\n",
    "print(\"Upper Abnormal Cases are: \", outliers[-16:-1])"
   ]
  },
  {
   "cell_type": "code",
   "execution_count": 36,
   "id": "0ebab860",
   "metadata": {},
   "outputs": [
    {
     "name": "stdout",
     "output_type": "stream",
     "text": [
      "The lower limit of normal conditions:  48.98375980637854\n",
      "The upper limit of normal conditions:  1452.6730990485498\n",
      "Lower Abnormal Cases are:  [-185.0, -184.22, -181.34, -176.41, -174.83, -173.63, -168.92, -168.55, -165.18, -165.07, -164.84, -163.46, -159.58, -158.35, -158.3]\n",
      "Upper Abnormal Cases are:  [48.79, 48.8, 48.81, 48.82, 48.83, 48.84, 48.85, 48.86, 48.87, 48.88, 48.89, 48.92, 48.93, 48.95, 48.96]\n"
     ]
    }
   ],
   "source": [
    "data2 = data['Cyclone_Material_Temp'] \n",
    "\n",
    "# Z-Score Method\n",
    "\n",
    "upper_bound = data2.mean() + 2 * data2.std() # Right from the mean\n",
    "lower_bound = data2.mean() - 2 * data2.std() # Left from the mean\n",
    "\n",
    "print(\"The lower limit of normal conditions: \", lower_bound)\n",
    "print(\"The upper limit of normal conditions: \", upper_bound)\n",
    "\n",
    "# Identify outliers\n",
    "outliers = [x for x in data2 if x < lower_bound or x > upper_bound]\n",
    "\n",
    "# Sorting the collected outliers\n",
    "outliers.sort()\n",
    "outliers = list(dict.fromkeys(outliers))\n",
    "\n",
    "# Printing the top 15 lower and upper ranged abnormal cases\n",
    "\n",
    "print(\"Lower Abnormal Cases are: \", outliers[0:15])\n",
    "print(\"Upper Abnormal Cases are: \", outliers[-16:-1])"
   ]
  },
  {
   "cell_type": "code",
   "execution_count": 37,
   "id": "7130a45d",
   "metadata": {},
   "outputs": [
    {
     "name": "stdout",
     "output_type": "stream",
     "text": [
      "The lower limit of normal conditions:  -475.2468167400609\n",
      "The upper limit of normal conditions:  119.58535004291207\n",
      "Lower Abnormal Cases are:  []\n",
      "Upper Abnormal Cases are:  []\n"
     ]
    }
   ],
   "source": [
    "data2 = data['Cyclone_Outlet_Gas_draft'] \n",
    "\n",
    "# Z-Score Method\n",
    "\n",
    "upper_bound = data2.mean() + 3 * data2.std() # Right from the mean\n",
    "lower_bound = data2.mean() - 3 * data2.std() # Left from the mean\n",
    "\n",
    "print(\"The lower limit of normal conditions: \", lower_bound)\n",
    "print(\"The upper limit of normal conditions: \", upper_bound)\n",
    "\n",
    "# Identify outliers\n",
    "outliers = [x for x in data2 if x < lower_bound or x > upper_bound]\n",
    "\n",
    "# Sorting the collected outliers\n",
    "outliers.sort()\n",
    "outliers = list(dict.fromkeys(outliers))\n",
    "\n",
    "# Printing the top 15 lower and upper ranged abnormal cases\n",
    "\n",
    "print(\"Lower Abnormal Cases are: \", outliers[0:15])\n",
    "print(\"Upper Abnormal Cases are: \", outliers[-16:-1])"
   ]
  },
  {
   "cell_type": "code",
   "execution_count": 38,
   "id": "d077cd16",
   "metadata": {},
   "outputs": [
    {
     "name": "stdout",
     "output_type": "stream",
     "text": [
      "The lower limit of normal conditions:  -376.10812227623205\n",
      "The upper limit of normal conditions:  20.446655579083227\n",
      "Lower Abnormal Cases are:  [-456.66, -437.96, -414.06, -401.6, -401.52, -392.51, -391.04, -389.99, -389.49, -387.65, -387.25, -382.87, -382.84, -378.21, 20.47]\n",
      "Upper Abnormal Cases are:  [33.08, 33.13, 33.54, 33.58, 33.68, 34.13, 34.14, 34.18, 34.27, 34.32, 34.33, 35.73, 38.11, 38.66, 39.17]\n"
     ]
    }
   ],
   "source": [
    "data2 = data['Cyclone_Outlet_Gas_draft'] \n",
    "\n",
    "# Z-Score Method\n",
    "\n",
    "upper_bound = data2.mean() + 2 * data2.std() # Right from the mean\n",
    "lower_bound = data2.mean() - 2 * data2.std() # Left from the mean\n",
    "\n",
    "print(\"The lower limit of normal conditions: \", lower_bound)\n",
    "print(\"The upper limit of normal conditions: \", upper_bound)\n",
    "\n",
    "# Identify outliers\n",
    "outliers = [x for x in data2 if x < lower_bound or x > upper_bound]\n",
    "\n",
    "# Sorting the collected outliers\n",
    "outliers.sort()\n",
    "outliers = list(dict.fromkeys(outliers))\n",
    "\n",
    "# Printing the top 15 lower and upper ranged abnormal cases\n",
    "\n",
    "print(\"Lower Abnormal Cases are: \", outliers[0:15])\n",
    "print(\"Upper Abnormal Cases are: \", outliers[-16:-1])"
   ]
  },
  {
   "cell_type": "code",
   "execution_count": 39,
   "id": "d742adb8",
   "metadata": {},
   "outputs": [
    {
     "name": "stdout",
     "output_type": "stream",
     "text": [
      "The lower limit of normal conditions:  -434.87188683865463\n",
      "The upper limit of normal conditions:  105.706530785871\n",
      "Lower Abnormal Cases are:  [-459.31, 137.39, 488.86]\n",
      "Upper Abnormal Cases are:  [-459.31, 137.39]\n"
     ]
    }
   ],
   "source": [
    "data2 = data['Cyclone_cone_draft'] \n",
    "\n",
    "# Z-Score Method\n",
    "\n",
    "upper_bound = data2.mean() + 3 * data2.std() # Right from the mean\n",
    "lower_bound = data2.mean() - 3 * data2.std() # Left from the mean\n",
    "\n",
    "print(\"The lower limit of normal conditions: \", lower_bound)\n",
    "print(\"The upper limit of normal conditions: \", upper_bound)\n",
    "\n",
    "# Identify outliers\n",
    "outliers = [x for x in data2 if x < lower_bound or x > upper_bound]\n",
    "\n",
    "# Sorting the collected outliers\n",
    "outliers.sort()\n",
    "outliers = list(dict.fromkeys(outliers))\n",
    "\n",
    "# Printing the top 15 lower and upper ranged abnormal cases\n",
    "\n",
    "print(\"Lower Abnormal Cases are: \", outliers[0:15])\n",
    "print(\"Upper Abnormal Cases are: \", outliers[-16:-1])"
   ]
  },
  {
   "cell_type": "markdown",
   "id": "ff9a8426",
   "metadata": {},
   "source": [
    "#### Here, we can find data points lying +3/-3 standard deviations away from the mean making them perfect outliers (The extreme abnormal operational instances we need)"
   ]
  },
  {
   "cell_type": "code",
   "execution_count": 40,
   "id": "94c45fea",
   "metadata": {},
   "outputs": [
    {
     "name": "stdout",
     "output_type": "stream",
     "text": [
      "The lower limit of normal conditions:  -344.77548390123366\n",
      "The upper limit of normal conditions:  15.610127848450048\n",
      "Lower Abnormal Cases are:  [-459.31, -432.07, -407.43, -404.83, -402.1, -386.4, -384.35, -381.7, -380.74, -371.19, -369.21, -368.42, -367.72, -367.25, -364.61]\n",
      "Upper Abnormal Cases are:  [-344.85, 15.87, 16.13, 16.27, 16.36, 16.84, 17.9, 18.02, 20.74, 22.96, 36.49, 41.24, 66.39, 77.33, 137.39]\n"
     ]
    }
   ],
   "source": [
    "data2 = data['Cyclone_cone_draft'] \n",
    "\n",
    "# Z-Score Method\n",
    "\n",
    "upper_bound = data2.mean() + 2 * data2.std() # Right from the mean\n",
    "lower_bound = data2.mean() - 2 * data2.std() # Left from the mean\n",
    "\n",
    "print(\"The lower limit of normal conditions: \", lower_bound)\n",
    "print(\"The upper limit of normal conditions: \", upper_bound)\n",
    "\n",
    "# Identify outliers\n",
    "outliers = [x for x in data2 if x < lower_bound or x > upper_bound]\n",
    "\n",
    "# Sorting the collected outliers\n",
    "outliers.sort()\n",
    "outliers = list(dict.fromkeys(outliers))\n",
    "\n",
    "# Printing the top 15 lower and upper ranged abnormal cases\n",
    "\n",
    "print(\"Lower Abnormal Cases are: \", outliers[0:15])\n",
    "print(\"Upper Abnormal Cases are: \", outliers[-16:-1])"
   ]
  },
  {
   "cell_type": "code",
   "execution_count": 41,
   "id": "17eb45ea",
   "metadata": {},
   "outputs": [
    {
     "name": "stdout",
     "output_type": "stream",
     "text": [
      "The lower limit of normal conditions:  -260.15082435143415\n",
      "The upper limit of normal conditions:  1691.74777482512\n",
      "Lower Abnormal Cases are:  []\n",
      "Upper Abnormal Cases are:  []\n"
     ]
    }
   ],
   "source": [
    "data2 = data['Cyclone_Gas_Outlet_Temp'] \n",
    "\n",
    "# Z-Score Method\n",
    "\n",
    "upper_bound = data2.mean() + 3 * data2.std() # Right from the mean\n",
    "lower_bound = data2.mean() - 3 * data2.std() # Left from the mean\n",
    "\n",
    "print(\"The lower limit of normal conditions: \", lower_bound)\n",
    "print(\"The upper limit of normal conditions: \", upper_bound)\n",
    "\n",
    "# Identify outliers\n",
    "outliers = [x for x in data2 if x < lower_bound or x > upper_bound]\n",
    "\n",
    "# Sorting the collected outliers\n",
    "outliers.sort()\n",
    "outliers = list(dict.fromkeys(outliers))\n",
    "\n",
    "# Printing the top 15 lower and upper ranged abnormal cases\n",
    "\n",
    "print(\"Lower Abnormal Cases are: \", outliers[0:15])\n",
    "print(\"Upper Abnormal Cases are: \", outliers[-16:-1])"
   ]
  },
  {
   "cell_type": "code",
   "execution_count": 42,
   "id": "0e2aa28d",
   "metadata": {},
   "outputs": [
    {
     "name": "stdout",
     "output_type": "stream",
     "text": [
      "The lower limit of normal conditions:  65.16560884465821\n",
      "The upper limit of normal conditions:  1366.4313416290274\n",
      "Lower Abnormal Cases are:  [13.79, 13.8, 13.81, 13.82, 13.83, 13.84, 13.87, 13.89, 13.9, 13.91, 13.92, 13.94, 13.95, 13.96, 13.97]\n",
      "Upper Abnormal Cases are:  [64.98, 65.03, 65.05, 65.06, 65.07, 65.08, 65.09, 65.1, 65.12, 65.13, 65.14, 1371.32, 1374.8, 1374.85, 1374.92]\n"
     ]
    }
   ],
   "source": [
    "data2 = data['Cyclone_Gas_Outlet_Temp'] \n",
    "\n",
    "# Z-Score Method\n",
    "\n",
    "upper_bound = data2.mean() + 2 * data2.std() # Right from the mean\n",
    "lower_bound = data2.mean() - 2 * data2.std() # Left from the mean\n",
    "\n",
    "print(\"The lower limit of normal conditions: \", lower_bound)\n",
    "print(\"The upper limit of normal conditions: \", upper_bound)\n",
    "\n",
    "# Identify outliers\n",
    "outliers = [x for x in data2 if x < lower_bound or x > upper_bound]\n",
    "\n",
    "# Sorting the collected outliers\n",
    "outliers.sort()\n",
    "outliers = list(dict.fromkeys(outliers))\n",
    "\n",
    "# Printing the top 15 lower and upper ranged abnormal cases\n",
    "\n",
    "print(\"Lower Abnormal Cases are: \", outliers[0:15])\n",
    "print(\"Upper Abnormal Cases are: \", outliers[-16:-1])"
   ]
  },
  {
   "cell_type": "code",
   "execution_count": 43,
   "id": "d105975b",
   "metadata": {},
   "outputs": [
    {
     "name": "stdout",
     "output_type": "stream",
     "text": [
      "The lower limit of normal conditions:  -374.1381566652726\n",
      "The upper limit of normal conditions:  91.51850532688525\n",
      "Lower Abnormal Cases are:  [-396.37, -391.08]\n",
      "Upper Abnormal Cases are:  [-396.37]\n"
     ]
    }
   ],
   "source": [
    "data2 = data['Cyclone_Inlet_Draft'] \n",
    "\n",
    "# Z-Score Method\n",
    "\n",
    "upper_bound = data2.mean() + 3 * data2.std() # Right from the mean\n",
    "lower_bound = data2.mean() - 3 * data2.std() # Left from the mean\n",
    "\n",
    "print(\"The lower limit of normal conditions: \", lower_bound)\n",
    "print(\"The upper limit of normal conditions: \", upper_bound)\n",
    "\n",
    "# Identify outliers\n",
    "outliers = [x for x in data2 if x < lower_bound or x > upper_bound]\n",
    "\n",
    "# Sorting the collected outliers\n",
    "outliers.sort()\n",
    "outliers = list(dict.fromkeys(outliers))\n",
    "\n",
    "# Printing the top 15 lower and upper ranged abnormal cases\n",
    "\n",
    "print(\"Lower Abnormal Cases are: \", outliers[0:15])\n",
    "print(\"Upper Abnormal Cases are: \", outliers[-16:-1])"
   ]
  },
  {
   "cell_type": "markdown",
   "id": "635774f1",
   "metadata": {},
   "source": [
    "#### Again, we can find data points lying +3/-3 standard deviations away from the mean making them perfect outliers (The extreme abnormal operational instances we need)"
   ]
  },
  {
   "cell_type": "code",
   "execution_count": 44,
   "id": "8c070be9",
   "metadata": {},
   "outputs": [
    {
     "name": "stdout",
     "output_type": "stream",
     "text": [
      "The lower limit of normal conditions:  -296.52871299991295\n",
      "The upper limit of normal conditions:  13.909061661525612\n",
      "Lower Abnormal Cases are:  [-396.37, -391.08, -348.66, -345.53, -338.18, -337.08, -336.56, -336.53, -334.55, -334.06, -331.92, -331.84, -330.66, -329.67, -327.11]\n",
      "Upper Abnormal Cases are:  [31.05, 31.4, 31.46, 31.85, 32.78, 32.8, 33.03, 33.48, 33.82, 33.9, 35.47, 36.35, 36.87, 37.12, 40.68]\n"
     ]
    }
   ],
   "source": [
    "data2 = data['Cyclone_Inlet_Draft'] \n",
    "\n",
    "# Z-Score Method\n",
    "\n",
    "upper_bound = data2.mean() + 2 * data2.std() # Right from the mean\n",
    "lower_bound = data2.mean() - 2 * data2.std() # Left from the mean\n",
    "\n",
    "print(\"The lower limit of normal conditions: \", lower_bound)\n",
    "print(\"The upper limit of normal conditions: \", upper_bound)\n",
    "\n",
    "# Identify outliers\n",
    "outliers = [x for x in data2 if x < lower_bound or x > upper_bound]\n",
    "\n",
    "# Sorting the collected outliers\n",
    "outliers.sort()\n",
    "outliers = list(dict.fromkeys(outliers))\n",
    "\n",
    "# Printing the top 15 lower and upper ranged abnormal cases\n",
    "\n",
    "print(\"Lower Abnormal Cases are: \", outliers[0:15])\n",
    "print(\"Upper Abnormal Cases are: \", outliers[-16:-1])"
   ]
  },
  {
   "cell_type": "markdown",
   "id": "268b999f",
   "metadata": {},
   "source": [
    "#### Now, let's perform the same i.e. outlier extraction for the complete data"
   ]
  },
  {
   "cell_type": "code",
   "execution_count": 45,
   "id": "6f5d3027",
   "metadata": {},
   "outputs": [
    {
     "data": {
      "text/html": [
       "<div>\n",
       "<style scoped>\n",
       "    .dataframe tbody tr th:only-of-type {\n",
       "        vertical-align: middle;\n",
       "    }\n",
       "\n",
       "    .dataframe tbody tr th {\n",
       "        vertical-align: top;\n",
       "    }\n",
       "\n",
       "    .dataframe thead th {\n",
       "        text-align: right;\n",
       "    }\n",
       "</style>\n",
       "<table border=\"1\" class=\"dataframe\">\n",
       "  <thead>\n",
       "    <tr style=\"text-align: right;\">\n",
       "      <th></th>\n",
       "      <th>time</th>\n",
       "      <th>Cyclone_Inlet_Gas_Temp</th>\n",
       "      <th>Cyclone_Material_Temp</th>\n",
       "      <th>Cyclone_Outlet_Gas_draft</th>\n",
       "      <th>Cyclone_cone_draft</th>\n",
       "      <th>Cyclone_Gas_Outlet_Temp</th>\n",
       "      <th>Cyclone_Inlet_Draft</th>\n",
       "    </tr>\n",
       "  </thead>\n",
       "  <tbody>\n",
       "    <tr>\n",
       "      <th>1726</th>\n",
       "      <td>2017-01-06 23:50:00</td>\n",
       "      <td>1007.18</td>\n",
       "      <td>951.46</td>\n",
       "      <td>-274.52</td>\n",
       "      <td>-255.59</td>\n",
       "      <td>916.57</td>\n",
       "      <td>-251.99</td>\n",
       "    </tr>\n",
       "    <tr>\n",
       "      <th>1727</th>\n",
       "      <td>2017-01-06 23:55:00</td>\n",
       "      <td>867.89</td>\n",
       "      <td>939.60</td>\n",
       "      <td>-262.52</td>\n",
       "      <td>-248.17</td>\n",
       "      <td>853.21</td>\n",
       "      <td>-233.09</td>\n",
       "    </tr>\n",
       "    <tr>\n",
       "      <th>1728</th>\n",
       "      <td>2017-01-07 00:00:00</td>\n",
       "      <td>918.63</td>\n",
       "      <td>927.05</td>\n",
       "      <td>-287.53</td>\n",
       "      <td>-264.87</td>\n",
       "      <td>864.21</td>\n",
       "      <td>-260.71</td>\n",
       "    </tr>\n",
       "    <tr>\n",
       "      <th>5303</th>\n",
       "      <td>2017-01-19 09:55:00</td>\n",
       "      <td>867.59</td>\n",
       "      <td>800.00</td>\n",
       "      <td>-161.48</td>\n",
       "      <td>-157.06</td>\n",
       "      <td>821.67</td>\n",
       "      <td>-120.85</td>\n",
       "    </tr>\n",
       "    <tr>\n",
       "      <th>5304</th>\n",
       "      <td>2017-01-19 10:00:00</td>\n",
       "      <td>883.90</td>\n",
       "      <td>800.00</td>\n",
       "      <td>-170.51</td>\n",
       "      <td>-158.25</td>\n",
       "      <td>826.18</td>\n",
       "      <td>-132.51</td>\n",
       "    </tr>\n",
       "    <tr>\n",
       "      <th>5305</th>\n",
       "      <td>2017-01-19 10:05:00</td>\n",
       "      <td>885.68</td>\n",
       "      <td>800.00</td>\n",
       "      <td>-172.07</td>\n",
       "      <td>-158.50</td>\n",
       "      <td>831.27</td>\n",
       "      <td>-130.65</td>\n",
       "    </tr>\n",
       "    <tr>\n",
       "      <th>6286</th>\n",
       "      <td>2017-01-22 19:50:00</td>\n",
       "      <td>906.18</td>\n",
       "      <td>924.13</td>\n",
       "      <td>-194.50</td>\n",
       "      <td>-147.48</td>\n",
       "      <td>834.62</td>\n",
       "      <td>-156.23</td>\n",
       "    </tr>\n",
       "    <tr>\n",
       "      <th>6288</th>\n",
       "      <td>2017-01-22 20:00:00</td>\n",
       "      <td>915.35</td>\n",
       "      <td>926.84</td>\n",
       "      <td>-197.01</td>\n",
       "      <td>-153.63</td>\n",
       "      <td>841.50</td>\n",
       "      <td>-158.50</td>\n",
       "    </tr>\n",
       "    <tr>\n",
       "      <th>6292</th>\n",
       "      <td>2017-01-22 20:20:00</td>\n",
       "      <td>879.48</td>\n",
       "      <td>890.97</td>\n",
       "      <td>-188.57</td>\n",
       "      <td>-157.31</td>\n",
       "      <td>813.97</td>\n",
       "      <td>-150.66</td>\n",
       "    </tr>\n",
       "    <tr>\n",
       "      <th>6294</th>\n",
       "      <td>2017-01-22 20:30:00</td>\n",
       "      <td>901.99</td>\n",
       "      <td>912.79</td>\n",
       "      <td>-193.62</td>\n",
       "      <td>-164.30</td>\n",
       "      <td>833.46</td>\n",
       "      <td>-158.18</td>\n",
       "    </tr>\n",
       "  </tbody>\n",
       "</table>\n",
       "</div>"
      ],
      "text/plain": [
       "                    time  Cyclone_Inlet_Gas_Temp  Cyclone_Material_Temp  \\\n",
       "1726 2017-01-06 23:50:00                 1007.18                 951.46   \n",
       "1727 2017-01-06 23:55:00                  867.89                 939.60   \n",
       "1728 2017-01-07 00:00:00                  918.63                 927.05   \n",
       "5303 2017-01-19 09:55:00                  867.59                 800.00   \n",
       "5304 2017-01-19 10:00:00                  883.90                 800.00   \n",
       "5305 2017-01-19 10:05:00                  885.68                 800.00   \n",
       "6286 2017-01-22 19:50:00                  906.18                 924.13   \n",
       "6288 2017-01-22 20:00:00                  915.35                 926.84   \n",
       "6292 2017-01-22 20:20:00                  879.48                 890.97   \n",
       "6294 2017-01-22 20:30:00                  901.99                 912.79   \n",
       "\n",
       "      Cyclone_Outlet_Gas_draft  Cyclone_cone_draft  Cyclone_Gas_Outlet_Temp  \\\n",
       "1726                   -274.52             -255.59                   916.57   \n",
       "1727                   -262.52             -248.17                   853.21   \n",
       "1728                   -287.53             -264.87                   864.21   \n",
       "5303                   -161.48             -157.06                   821.67   \n",
       "5304                   -170.51             -158.25                   826.18   \n",
       "5305                   -172.07             -158.50                   831.27   \n",
       "6286                   -194.50             -147.48                   834.62   \n",
       "6288                   -197.01             -153.63                   841.50   \n",
       "6292                   -188.57             -157.31                   813.97   \n",
       "6294                   -193.62             -164.30                   833.46   \n",
       "\n",
       "      Cyclone_Inlet_Draft  \n",
       "1726              -251.99  \n",
       "1727              -233.09  \n",
       "1728              -260.71  \n",
       "5303              -120.85  \n",
       "5304              -132.51  \n",
       "5305              -130.65  \n",
       "6286              -156.23  \n",
       "6288              -158.50  \n",
       "6292              -150.66  \n",
       "6294              -158.18  "
      ]
     },
     "execution_count": 45,
     "metadata": {},
     "output_type": "execute_result"
    }
   ],
   "source": [
    "# Implementing Local Outlier Factor (Automated Oultier Detection Technique)\n",
    "\n",
    "lof = LocalOutlierFactor()\n",
    "yhat = lof.fit_predict(data.iloc[:, 1:7])\n",
    "mask = yhat == -1\n",
    "data3 = data[mask]\n",
    "data3.head(10)"
   ]
  },
  {
   "cell_type": "code",
   "execution_count": 46,
   "id": "12c51b06",
   "metadata": {},
   "outputs": [
    {
     "data": {
      "text/plain": [
       "(5531, 7)"
      ]
     },
     "execution_count": 46,
     "metadata": {},
     "output_type": "execute_result"
    }
   ],
   "source": [
    "data3.shape"
   ]
  },
  {
   "cell_type": "markdown",
   "id": "37a3dc28",
   "metadata": {},
   "source": [
    "#### Here, we got a set of abnormal conditions. But, we are interested in finding out the extreme degrees of abnormal conditions as mentioned previously"
   ]
  },
  {
   "cell_type": "markdown",
   "id": "dca4d71d",
   "metadata": {},
   "source": [
    "#### Let's implement the same Z-Score method here too."
   ]
  },
  {
   "cell_type": "code",
   "execution_count": 47,
   "id": "67aa4fd1",
   "metadata": {},
   "outputs": [],
   "source": [
    "data4 = data.copy()\n",
    "\n",
    "# Finding out the Z-Scores for each and every instance of the variables and appending them as columns\n",
    "\n",
    "cols = [\"Cyclone_Inlet_Gas_Temp\", \"Cyclone_Material_Temp\", \"Cyclone_Outlet_Gas_draft\",\n",
    "        \"Cyclone_cone_draft\", \"Cyclone_Gas_Outlet_Temp\", \"Cyclone_Inlet_Draft\"]\n",
    "\n",
    "for col in cols:\n",
    "    col_zscore = col + '_zscore'\n",
    "    data4[col_zscore] = (data4[col] - data4[col].mean())/data4[col].std(ddof=0)"
   ]
  },
  {
   "cell_type": "code",
   "execution_count": 48,
   "id": "f78981c7",
   "metadata": {},
   "outputs": [
    {
     "data": {
      "text/html": [
       "<div>\n",
       "<style scoped>\n",
       "    .dataframe tbody tr th:only-of-type {\n",
       "        vertical-align: middle;\n",
       "    }\n",
       "\n",
       "    .dataframe tbody tr th {\n",
       "        vertical-align: top;\n",
       "    }\n",
       "\n",
       "    .dataframe thead th {\n",
       "        text-align: right;\n",
       "    }\n",
       "</style>\n",
       "<table border=\"1\" class=\"dataframe\">\n",
       "  <thead>\n",
       "    <tr style=\"text-align: right;\">\n",
       "      <th></th>\n",
       "      <th>time</th>\n",
       "      <th>Cyclone_Inlet_Gas_Temp</th>\n",
       "      <th>Cyclone_Material_Temp</th>\n",
       "      <th>Cyclone_Outlet_Gas_draft</th>\n",
       "      <th>Cyclone_cone_draft</th>\n",
       "      <th>Cyclone_Gas_Outlet_Temp</th>\n",
       "      <th>Cyclone_Inlet_Draft</th>\n",
       "      <th>Cyclone_Inlet_Gas_Temp_zscore</th>\n",
       "      <th>Cyclone_Material_Temp_zscore</th>\n",
       "      <th>Cyclone_Outlet_Gas_draft_zscore</th>\n",
       "      <th>Cyclone_cone_draft_zscore</th>\n",
       "      <th>Cyclone_Gas_Outlet_Temp_zscore</th>\n",
       "      <th>Cyclone_Inlet_Draft_zscore</th>\n",
       "    </tr>\n",
       "  </thead>\n",
       "  <tbody>\n",
       "    <tr>\n",
       "      <th>0</th>\n",
       "      <td>2017-01-01 00:00:00</td>\n",
       "      <td>867.63</td>\n",
       "      <td>910.42</td>\n",
       "      <td>-189.54</td>\n",
       "      <td>-186.04</td>\n",
       "      <td>852.13</td>\n",
       "      <td>-145.90</td>\n",
       "      <td>0.426743</td>\n",
       "      <td>0.454778</td>\n",
       "      <td>-0.118110</td>\n",
       "      <td>-0.238160</td>\n",
       "      <td>0.419074</td>\n",
       "      <td>-0.059145</td>\n",
       "    </tr>\n",
       "    <tr>\n",
       "      <th>1</th>\n",
       "      <td>2017-01-01 00:05:00</td>\n",
       "      <td>879.23</td>\n",
       "      <td>918.14</td>\n",
       "      <td>-184.33</td>\n",
       "      <td>-182.10</td>\n",
       "      <td>862.53</td>\n",
       "      <td>-149.76</td>\n",
       "      <td>0.462041</td>\n",
       "      <td>0.476777</td>\n",
       "      <td>-0.065557</td>\n",
       "      <td>-0.194429</td>\n",
       "      <td>0.451043</td>\n",
       "      <td>-0.108881</td>\n",
       "    </tr>\n",
       "    <tr>\n",
       "      <th>2</th>\n",
       "      <td>2017-01-01 00:10:00</td>\n",
       "      <td>875.67</td>\n",
       "      <td>924.18</td>\n",
       "      <td>-181.26</td>\n",
       "      <td>-166.47</td>\n",
       "      <td>866.06</td>\n",
       "      <td>-145.01</td>\n",
       "      <td>0.451208</td>\n",
       "      <td>0.493989</td>\n",
       "      <td>-0.034591</td>\n",
       "      <td>-0.020948</td>\n",
       "      <td>0.461894</td>\n",
       "      <td>-0.047677</td>\n",
       "    </tr>\n",
       "    <tr>\n",
       "      <th>3</th>\n",
       "      <td>2017-01-01 00:15:00</td>\n",
       "      <td>875.28</td>\n",
       "      <td>923.15</td>\n",
       "      <td>-179.15</td>\n",
       "      <td>-174.83</td>\n",
       "      <td>865.85</td>\n",
       "      <td>-142.82</td>\n",
       "      <td>0.450021</td>\n",
       "      <td>0.491054</td>\n",
       "      <td>-0.013307</td>\n",
       "      <td>-0.113737</td>\n",
       "      <td>0.461249</td>\n",
       "      <td>-0.019459</td>\n",
       "    </tr>\n",
       "    <tr>\n",
       "      <th>4</th>\n",
       "      <td>2017-01-01 00:20:00</td>\n",
       "      <td>891.66</td>\n",
       "      <td>934.26</td>\n",
       "      <td>-178.32</td>\n",
       "      <td>-173.72</td>\n",
       "      <td>876.06</td>\n",
       "      <td>-143.39</td>\n",
       "      <td>0.499864</td>\n",
       "      <td>0.522713</td>\n",
       "      <td>-0.004935</td>\n",
       "      <td>-0.101417</td>\n",
       "      <td>0.492633</td>\n",
       "      <td>-0.026803</td>\n",
       "    </tr>\n",
       "    <tr>\n",
       "      <th>5</th>\n",
       "      <td>2017-01-01 00:25:00</td>\n",
       "      <td>878.54</td>\n",
       "      <td>932.38</td>\n",
       "      <td>-188.37</td>\n",
       "      <td>-177.98</td>\n",
       "      <td>870.31</td>\n",
       "      <td>-146.92</td>\n",
       "      <td>0.459941</td>\n",
       "      <td>0.517356</td>\n",
       "      <td>-0.106308</td>\n",
       "      <td>-0.148700</td>\n",
       "      <td>0.474958</td>\n",
       "      <td>-0.072287</td>\n",
       "    </tr>\n",
       "    <tr>\n",
       "      <th>6</th>\n",
       "      <td>2017-01-01 00:30:00</td>\n",
       "      <td>905.94</td>\n",
       "      <td>951.32</td>\n",
       "      <td>-184.20</td>\n",
       "      <td>-182.67</td>\n",
       "      <td>889.39</td>\n",
       "      <td>-151.83</td>\n",
       "      <td>0.543316</td>\n",
       "      <td>0.571328</td>\n",
       "      <td>-0.064246</td>\n",
       "      <td>-0.200755</td>\n",
       "      <td>0.533609</td>\n",
       "      <td>-0.135553</td>\n",
       "    </tr>\n",
       "    <tr>\n",
       "      <th>7</th>\n",
       "      <td>2017-01-01 00:35:00</td>\n",
       "      <td>877.83</td>\n",
       "      <td>939.63</td>\n",
       "      <td>-184.20</td>\n",
       "      <td>-181.17</td>\n",
       "      <td>875.75</td>\n",
       "      <td>-149.70</td>\n",
       "      <td>0.457780</td>\n",
       "      <td>0.538016</td>\n",
       "      <td>-0.064246</td>\n",
       "      <td>-0.184107</td>\n",
       "      <td>0.491680</td>\n",
       "      <td>-0.108108</td>\n",
       "    </tr>\n",
       "    <tr>\n",
       "      <th>8</th>\n",
       "      <td>2017-01-01 00:40:00</td>\n",
       "      <td>871.01</td>\n",
       "      <td>938.73</td>\n",
       "      <td>-184.20</td>\n",
       "      <td>-181.17</td>\n",
       "      <td>871.35</td>\n",
       "      <td>-145.62</td>\n",
       "      <td>0.437028</td>\n",
       "      <td>0.535451</td>\n",
       "      <td>-0.064246</td>\n",
       "      <td>-0.184107</td>\n",
       "      <td>0.478155</td>\n",
       "      <td>-0.055537</td>\n",
       "    </tr>\n",
       "    <tr>\n",
       "      <th>9</th>\n",
       "      <td>2017-01-01 00:45:00</td>\n",
       "      <td>905.46</td>\n",
       "      <td>939.06</td>\n",
       "      <td>-182.63</td>\n",
       "      <td>-178.23</td>\n",
       "      <td>871.35</td>\n",
       "      <td>-148.88</td>\n",
       "      <td>0.541856</td>\n",
       "      <td>0.536392</td>\n",
       "      <td>-0.048410</td>\n",
       "      <td>-0.151475</td>\n",
       "      <td>0.478155</td>\n",
       "      <td>-0.097542</td>\n",
       "    </tr>\n",
       "  </tbody>\n",
       "</table>\n",
       "</div>"
      ],
      "text/plain": [
       "                 time  Cyclone_Inlet_Gas_Temp  Cyclone_Material_Temp  \\\n",
       "0 2017-01-01 00:00:00                  867.63                 910.42   \n",
       "1 2017-01-01 00:05:00                  879.23                 918.14   \n",
       "2 2017-01-01 00:10:00                  875.67                 924.18   \n",
       "3 2017-01-01 00:15:00                  875.28                 923.15   \n",
       "4 2017-01-01 00:20:00                  891.66                 934.26   \n",
       "5 2017-01-01 00:25:00                  878.54                 932.38   \n",
       "6 2017-01-01 00:30:00                  905.94                 951.32   \n",
       "7 2017-01-01 00:35:00                  877.83                 939.63   \n",
       "8 2017-01-01 00:40:00                  871.01                 938.73   \n",
       "9 2017-01-01 00:45:00                  905.46                 939.06   \n",
       "\n",
       "   Cyclone_Outlet_Gas_draft  Cyclone_cone_draft  Cyclone_Gas_Outlet_Temp  \\\n",
       "0                   -189.54             -186.04                   852.13   \n",
       "1                   -184.33             -182.10                   862.53   \n",
       "2                   -181.26             -166.47                   866.06   \n",
       "3                   -179.15             -174.83                   865.85   \n",
       "4                   -178.32             -173.72                   876.06   \n",
       "5                   -188.37             -177.98                   870.31   \n",
       "6                   -184.20             -182.67                   889.39   \n",
       "7                   -184.20             -181.17                   875.75   \n",
       "8                   -184.20             -181.17                   871.35   \n",
       "9                   -182.63             -178.23                   871.35   \n",
       "\n",
       "   Cyclone_Inlet_Draft  Cyclone_Inlet_Gas_Temp_zscore  \\\n",
       "0              -145.90                       0.426743   \n",
       "1              -149.76                       0.462041   \n",
       "2              -145.01                       0.451208   \n",
       "3              -142.82                       0.450021   \n",
       "4              -143.39                       0.499864   \n",
       "5              -146.92                       0.459941   \n",
       "6              -151.83                       0.543316   \n",
       "7              -149.70                       0.457780   \n",
       "8              -145.62                       0.437028   \n",
       "9              -148.88                       0.541856   \n",
       "\n",
       "   Cyclone_Material_Temp_zscore  Cyclone_Outlet_Gas_draft_zscore  \\\n",
       "0                      0.454778                        -0.118110   \n",
       "1                      0.476777                        -0.065557   \n",
       "2                      0.493989                        -0.034591   \n",
       "3                      0.491054                        -0.013307   \n",
       "4                      0.522713                        -0.004935   \n",
       "5                      0.517356                        -0.106308   \n",
       "6                      0.571328                        -0.064246   \n",
       "7                      0.538016                        -0.064246   \n",
       "8                      0.535451                        -0.064246   \n",
       "9                      0.536392                        -0.048410   \n",
       "\n",
       "   Cyclone_cone_draft_zscore  Cyclone_Gas_Outlet_Temp_zscore  \\\n",
       "0                  -0.238160                        0.419074   \n",
       "1                  -0.194429                        0.451043   \n",
       "2                  -0.020948                        0.461894   \n",
       "3                  -0.113737                        0.461249   \n",
       "4                  -0.101417                        0.492633   \n",
       "5                  -0.148700                        0.474958   \n",
       "6                  -0.200755                        0.533609   \n",
       "7                  -0.184107                        0.491680   \n",
       "8                  -0.184107                        0.478155   \n",
       "9                  -0.151475                        0.478155   \n",
       "\n",
       "   Cyclone_Inlet_Draft_zscore  \n",
       "0                   -0.059145  \n",
       "1                   -0.108881  \n",
       "2                   -0.047677  \n",
       "3                   -0.019459  \n",
       "4                   -0.026803  \n",
       "5                   -0.072287  \n",
       "6                   -0.135553  \n",
       "7                   -0.108108  \n",
       "8                   -0.055537  \n",
       "9                   -0.097542  "
      ]
     },
     "execution_count": 48,
     "metadata": {},
     "output_type": "execute_result"
    }
   ],
   "source": [
    "data4.head(10)"
   ]
  },
  {
   "cell_type": "code",
   "execution_count": 49,
   "id": "264df89a",
   "metadata": {},
   "outputs": [
    {
     "data": {
      "text/plain": [
       "(376124, 13)"
      ]
     },
     "execution_count": 49,
     "metadata": {},
     "output_type": "execute_result"
    }
   ],
   "source": [
    "data4.shape"
   ]
  },
  {
   "cell_type": "code",
   "execution_count": 50,
   "id": "839ef392",
   "metadata": {},
   "outputs": [
    {
     "data": {
      "text/html": [
       "<div>\n",
       "<style scoped>\n",
       "    .dataframe tbody tr th:only-of-type {\n",
       "        vertical-align: middle;\n",
       "    }\n",
       "\n",
       "    .dataframe tbody tr th {\n",
       "        vertical-align: top;\n",
       "    }\n",
       "\n",
       "    .dataframe thead th {\n",
       "        text-align: right;\n",
       "    }\n",
       "</style>\n",
       "<table border=\"1\" class=\"dataframe\">\n",
       "  <thead>\n",
       "    <tr style=\"text-align: right;\">\n",
       "      <th></th>\n",
       "      <th>time</th>\n",
       "      <th>Cyclone_Inlet_Gas_Temp</th>\n",
       "      <th>Cyclone_Material_Temp</th>\n",
       "      <th>Cyclone_Outlet_Gas_draft</th>\n",
       "      <th>Cyclone_cone_draft</th>\n",
       "      <th>Cyclone_Gas_Outlet_Temp</th>\n",
       "      <th>Cyclone_Inlet_Draft</th>\n",
       "      <th>Cyclone_Inlet_Gas_Temp_zscore</th>\n",
       "      <th>Cyclone_Material_Temp_zscore</th>\n",
       "      <th>Cyclone_Outlet_Gas_draft_zscore</th>\n",
       "      <th>Cyclone_cone_draft_zscore</th>\n",
       "      <th>Cyclone_Gas_Outlet_Temp_zscore</th>\n",
       "      <th>Cyclone_Inlet_Draft_zscore</th>\n",
       "      <th>Z_Score_Mean</th>\n",
       "    </tr>\n",
       "  </thead>\n",
       "  <tbody>\n",
       "    <tr>\n",
       "      <th>0</th>\n",
       "      <td>2017-01-01 00:00:00</td>\n",
       "      <td>867.63</td>\n",
       "      <td>910.42</td>\n",
       "      <td>-189.54</td>\n",
       "      <td>-186.04</td>\n",
       "      <td>852.13</td>\n",
       "      <td>-145.90</td>\n",
       "      <td>0.426743</td>\n",
       "      <td>0.454778</td>\n",
       "      <td>-0.118110</td>\n",
       "      <td>-0.238160</td>\n",
       "      <td>0.419074</td>\n",
       "      <td>-0.059145</td>\n",
       "      <td>0.091688</td>\n",
       "    </tr>\n",
       "    <tr>\n",
       "      <th>1</th>\n",
       "      <td>2017-01-01 00:05:00</td>\n",
       "      <td>879.23</td>\n",
       "      <td>918.14</td>\n",
       "      <td>-184.33</td>\n",
       "      <td>-182.10</td>\n",
       "      <td>862.53</td>\n",
       "      <td>-149.76</td>\n",
       "      <td>0.462041</td>\n",
       "      <td>0.476777</td>\n",
       "      <td>-0.065557</td>\n",
       "      <td>-0.194429</td>\n",
       "      <td>0.451043</td>\n",
       "      <td>-0.108881</td>\n",
       "      <td>0.111791</td>\n",
       "    </tr>\n",
       "    <tr>\n",
       "      <th>2</th>\n",
       "      <td>2017-01-01 00:10:00</td>\n",
       "      <td>875.67</td>\n",
       "      <td>924.18</td>\n",
       "      <td>-181.26</td>\n",
       "      <td>-166.47</td>\n",
       "      <td>866.06</td>\n",
       "      <td>-145.01</td>\n",
       "      <td>0.451208</td>\n",
       "      <td>0.493989</td>\n",
       "      <td>-0.034591</td>\n",
       "      <td>-0.020948</td>\n",
       "      <td>0.461894</td>\n",
       "      <td>-0.047677</td>\n",
       "      <td>0.170534</td>\n",
       "    </tr>\n",
       "    <tr>\n",
       "      <th>3</th>\n",
       "      <td>2017-01-01 00:15:00</td>\n",
       "      <td>875.28</td>\n",
       "      <td>923.15</td>\n",
       "      <td>-179.15</td>\n",
       "      <td>-174.83</td>\n",
       "      <td>865.85</td>\n",
       "      <td>-142.82</td>\n",
       "      <td>0.450021</td>\n",
       "      <td>0.491054</td>\n",
       "      <td>-0.013307</td>\n",
       "      <td>-0.113737</td>\n",
       "      <td>0.461249</td>\n",
       "      <td>-0.019459</td>\n",
       "      <td>0.161160</td>\n",
       "    </tr>\n",
       "    <tr>\n",
       "      <th>4</th>\n",
       "      <td>2017-01-01 00:20:00</td>\n",
       "      <td>891.66</td>\n",
       "      <td>934.26</td>\n",
       "      <td>-178.32</td>\n",
       "      <td>-173.72</td>\n",
       "      <td>876.06</td>\n",
       "      <td>-143.39</td>\n",
       "      <td>0.499864</td>\n",
       "      <td>0.522713</td>\n",
       "      <td>-0.004935</td>\n",
       "      <td>-0.101417</td>\n",
       "      <td>0.492633</td>\n",
       "      <td>-0.026803</td>\n",
       "      <td>0.176438</td>\n",
       "    </tr>\n",
       "    <tr>\n",
       "      <th>5</th>\n",
       "      <td>2017-01-01 00:25:00</td>\n",
       "      <td>878.54</td>\n",
       "      <td>932.38</td>\n",
       "      <td>-188.37</td>\n",
       "      <td>-177.98</td>\n",
       "      <td>870.31</td>\n",
       "      <td>-146.92</td>\n",
       "      <td>0.459941</td>\n",
       "      <td>0.517356</td>\n",
       "      <td>-0.106308</td>\n",
       "      <td>-0.148700</td>\n",
       "      <td>0.474958</td>\n",
       "      <td>-0.072287</td>\n",
       "      <td>0.133004</td>\n",
       "    </tr>\n",
       "    <tr>\n",
       "      <th>6</th>\n",
       "      <td>2017-01-01 00:30:00</td>\n",
       "      <td>905.94</td>\n",
       "      <td>951.32</td>\n",
       "      <td>-184.20</td>\n",
       "      <td>-182.67</td>\n",
       "      <td>889.39</td>\n",
       "      <td>-151.83</td>\n",
       "      <td>0.543316</td>\n",
       "      <td>0.571328</td>\n",
       "      <td>-0.064246</td>\n",
       "      <td>-0.200755</td>\n",
       "      <td>0.533609</td>\n",
       "      <td>-0.135553</td>\n",
       "      <td>0.140877</td>\n",
       "    </tr>\n",
       "    <tr>\n",
       "      <th>7</th>\n",
       "      <td>2017-01-01 00:35:00</td>\n",
       "      <td>877.83</td>\n",
       "      <td>939.63</td>\n",
       "      <td>-184.20</td>\n",
       "      <td>-181.17</td>\n",
       "      <td>875.75</td>\n",
       "      <td>-149.70</td>\n",
       "      <td>0.457780</td>\n",
       "      <td>0.538016</td>\n",
       "      <td>-0.064246</td>\n",
       "      <td>-0.184107</td>\n",
       "      <td>0.491680</td>\n",
       "      <td>-0.108108</td>\n",
       "      <td>0.134647</td>\n",
       "    </tr>\n",
       "    <tr>\n",
       "      <th>8</th>\n",
       "      <td>2017-01-01 00:40:00</td>\n",
       "      <td>871.01</td>\n",
       "      <td>938.73</td>\n",
       "      <td>-184.20</td>\n",
       "      <td>-181.17</td>\n",
       "      <td>871.35</td>\n",
       "      <td>-145.62</td>\n",
       "      <td>0.437028</td>\n",
       "      <td>0.535451</td>\n",
       "      <td>-0.064246</td>\n",
       "      <td>-0.184107</td>\n",
       "      <td>0.478155</td>\n",
       "      <td>-0.055537</td>\n",
       "      <td>0.141943</td>\n",
       "    </tr>\n",
       "    <tr>\n",
       "      <th>9</th>\n",
       "      <td>2017-01-01 00:45:00</td>\n",
       "      <td>905.46</td>\n",
       "      <td>939.06</td>\n",
       "      <td>-182.63</td>\n",
       "      <td>-178.23</td>\n",
       "      <td>871.35</td>\n",
       "      <td>-148.88</td>\n",
       "      <td>0.541856</td>\n",
       "      <td>0.536392</td>\n",
       "      <td>-0.048410</td>\n",
       "      <td>-0.151475</td>\n",
       "      <td>0.478155</td>\n",
       "      <td>-0.097542</td>\n",
       "      <td>0.143424</td>\n",
       "    </tr>\n",
       "  </tbody>\n",
       "</table>\n",
       "</div>"
      ],
      "text/plain": [
       "                 time  Cyclone_Inlet_Gas_Temp  Cyclone_Material_Temp  \\\n",
       "0 2017-01-01 00:00:00                  867.63                 910.42   \n",
       "1 2017-01-01 00:05:00                  879.23                 918.14   \n",
       "2 2017-01-01 00:10:00                  875.67                 924.18   \n",
       "3 2017-01-01 00:15:00                  875.28                 923.15   \n",
       "4 2017-01-01 00:20:00                  891.66                 934.26   \n",
       "5 2017-01-01 00:25:00                  878.54                 932.38   \n",
       "6 2017-01-01 00:30:00                  905.94                 951.32   \n",
       "7 2017-01-01 00:35:00                  877.83                 939.63   \n",
       "8 2017-01-01 00:40:00                  871.01                 938.73   \n",
       "9 2017-01-01 00:45:00                  905.46                 939.06   \n",
       "\n",
       "   Cyclone_Outlet_Gas_draft  Cyclone_cone_draft  Cyclone_Gas_Outlet_Temp  \\\n",
       "0                   -189.54             -186.04                   852.13   \n",
       "1                   -184.33             -182.10                   862.53   \n",
       "2                   -181.26             -166.47                   866.06   \n",
       "3                   -179.15             -174.83                   865.85   \n",
       "4                   -178.32             -173.72                   876.06   \n",
       "5                   -188.37             -177.98                   870.31   \n",
       "6                   -184.20             -182.67                   889.39   \n",
       "7                   -184.20             -181.17                   875.75   \n",
       "8                   -184.20             -181.17                   871.35   \n",
       "9                   -182.63             -178.23                   871.35   \n",
       "\n",
       "   Cyclone_Inlet_Draft  Cyclone_Inlet_Gas_Temp_zscore  \\\n",
       "0              -145.90                       0.426743   \n",
       "1              -149.76                       0.462041   \n",
       "2              -145.01                       0.451208   \n",
       "3              -142.82                       0.450021   \n",
       "4              -143.39                       0.499864   \n",
       "5              -146.92                       0.459941   \n",
       "6              -151.83                       0.543316   \n",
       "7              -149.70                       0.457780   \n",
       "8              -145.62                       0.437028   \n",
       "9              -148.88                       0.541856   \n",
       "\n",
       "   Cyclone_Material_Temp_zscore  Cyclone_Outlet_Gas_draft_zscore  \\\n",
       "0                      0.454778                        -0.118110   \n",
       "1                      0.476777                        -0.065557   \n",
       "2                      0.493989                        -0.034591   \n",
       "3                      0.491054                        -0.013307   \n",
       "4                      0.522713                        -0.004935   \n",
       "5                      0.517356                        -0.106308   \n",
       "6                      0.571328                        -0.064246   \n",
       "7                      0.538016                        -0.064246   \n",
       "8                      0.535451                        -0.064246   \n",
       "9                      0.536392                        -0.048410   \n",
       "\n",
       "   Cyclone_cone_draft_zscore  Cyclone_Gas_Outlet_Temp_zscore  \\\n",
       "0                  -0.238160                        0.419074   \n",
       "1                  -0.194429                        0.451043   \n",
       "2                  -0.020948                        0.461894   \n",
       "3                  -0.113737                        0.461249   \n",
       "4                  -0.101417                        0.492633   \n",
       "5                  -0.148700                        0.474958   \n",
       "6                  -0.200755                        0.533609   \n",
       "7                  -0.184107                        0.491680   \n",
       "8                  -0.184107                        0.478155   \n",
       "9                  -0.151475                        0.478155   \n",
       "\n",
       "   Cyclone_Inlet_Draft_zscore  Z_Score_Mean  \n",
       "0                   -0.059145      0.091688  \n",
       "1                   -0.108881      0.111791  \n",
       "2                   -0.047677      0.170534  \n",
       "3                   -0.019459      0.161160  \n",
       "4                   -0.026803      0.176438  \n",
       "5                   -0.072287      0.133004  \n",
       "6                   -0.135553      0.140877  \n",
       "7                   -0.108108      0.134647  \n",
       "8                   -0.055537      0.141943  \n",
       "9                   -0.097542      0.143424  "
      ]
     },
     "execution_count": 50,
     "metadata": {},
     "output_type": "execute_result"
    }
   ],
   "source": [
    "data5 = data4.iloc[:, 8:14]\n",
    "\n",
    "# Finding out the mean Z-Score for each and every instance by finding out the mean of the Z-Scores of the variables\n",
    "# corresponding to the instance found earlier (row mean)\n",
    "\n",
    "data4['Z_Score_Mean'] = data5.mean(axis=1)\n",
    "data4.head(10)"
   ]
  },
  {
   "cell_type": "code",
   "execution_count": 51,
   "id": "13f2ff27",
   "metadata": {},
   "outputs": [
    {
     "data": {
      "text/html": [
       "<div>\n",
       "<style scoped>\n",
       "    .dataframe tbody tr th:only-of-type {\n",
       "        vertical-align: middle;\n",
       "    }\n",
       "\n",
       "    .dataframe tbody tr th {\n",
       "        vertical-align: top;\n",
       "    }\n",
       "\n",
       "    .dataframe thead th {\n",
       "        text-align: right;\n",
       "    }\n",
       "</style>\n",
       "<table border=\"1\" class=\"dataframe\">\n",
       "  <thead>\n",
       "    <tr style=\"text-align: right;\">\n",
       "      <th></th>\n",
       "      <th>time</th>\n",
       "      <th>Cyclone_Inlet_Gas_Temp</th>\n",
       "      <th>Cyclone_Material_Temp</th>\n",
       "      <th>Cyclone_Outlet_Gas_draft</th>\n",
       "      <th>Cyclone_cone_draft</th>\n",
       "      <th>Cyclone_Gas_Outlet_Temp</th>\n",
       "      <th>Cyclone_Inlet_Draft</th>\n",
       "      <th>Cyclone_Inlet_Gas_Temp_zscore</th>\n",
       "      <th>Cyclone_Material_Temp_zscore</th>\n",
       "      <th>Cyclone_Outlet_Gas_draft_zscore</th>\n",
       "      <th>Cyclone_cone_draft_zscore</th>\n",
       "      <th>Cyclone_Gas_Outlet_Temp_zscore</th>\n",
       "      <th>Cyclone_Inlet_Draft_zscore</th>\n",
       "      <th>Z_Score_Mean</th>\n",
       "    </tr>\n",
       "  </thead>\n",
       "  <tbody>\n",
       "  </tbody>\n",
       "</table>\n",
       "</div>"
      ],
      "text/plain": [
       "Empty DataFrame\n",
       "Columns: [time, Cyclone_Inlet_Gas_Temp, Cyclone_Material_Temp, Cyclone_Outlet_Gas_draft, Cyclone_cone_draft, Cyclone_Gas_Outlet_Temp, Cyclone_Inlet_Draft, Cyclone_Inlet_Gas_Temp_zscore, Cyclone_Material_Temp_zscore, Cyclone_Outlet_Gas_draft_zscore, Cyclone_cone_draft_zscore, Cyclone_Gas_Outlet_Temp_zscore, Cyclone_Inlet_Draft_zscore, Z_Score_Mean]\n",
       "Index: []"
      ]
     },
     "execution_count": 51,
     "metadata": {},
     "output_type": "execute_result"
    }
   ],
   "source": [
    "data5 = data4[abs(data4[\"Z_Score_Mean\"]) > 3]\n",
    "data5.head(10)"
   ]
  },
  {
   "cell_type": "code",
   "execution_count": 52,
   "id": "234f165e",
   "metadata": {},
   "outputs": [
    {
     "data": {
      "text/html": [
       "<div>\n",
       "<style scoped>\n",
       "    .dataframe tbody tr th:only-of-type {\n",
       "        vertical-align: middle;\n",
       "    }\n",
       "\n",
       "    .dataframe tbody tr th {\n",
       "        vertical-align: top;\n",
       "    }\n",
       "\n",
       "    .dataframe thead th {\n",
       "        text-align: right;\n",
       "    }\n",
       "</style>\n",
       "<table border=\"1\" class=\"dataframe\">\n",
       "  <thead>\n",
       "    <tr style=\"text-align: right;\">\n",
       "      <th></th>\n",
       "      <th>time</th>\n",
       "      <th>Cyclone_Inlet_Gas_Temp</th>\n",
       "      <th>Cyclone_Material_Temp</th>\n",
       "      <th>Cyclone_Outlet_Gas_draft</th>\n",
       "      <th>Cyclone_cone_draft</th>\n",
       "      <th>Cyclone_Gas_Outlet_Temp</th>\n",
       "      <th>Cyclone_Inlet_Draft</th>\n",
       "      <th>Cyclone_Inlet_Gas_Temp_zscore</th>\n",
       "      <th>Cyclone_Material_Temp_zscore</th>\n",
       "      <th>Cyclone_Outlet_Gas_draft_zscore</th>\n",
       "      <th>Cyclone_cone_draft_zscore</th>\n",
       "      <th>Cyclone_Gas_Outlet_Temp_zscore</th>\n",
       "      <th>Cyclone_Inlet_Draft_zscore</th>\n",
       "      <th>Z_Score_Mean</th>\n",
       "    </tr>\n",
       "  </thead>\n",
       "  <tbody>\n",
       "  </tbody>\n",
       "</table>\n",
       "</div>"
      ],
      "text/plain": [
       "Empty DataFrame\n",
       "Columns: [time, Cyclone_Inlet_Gas_Temp, Cyclone_Material_Temp, Cyclone_Outlet_Gas_draft, Cyclone_cone_draft, Cyclone_Gas_Outlet_Temp, Cyclone_Inlet_Draft, Cyclone_Inlet_Gas_Temp_zscore, Cyclone_Material_Temp_zscore, Cyclone_Outlet_Gas_draft_zscore, Cyclone_cone_draft_zscore, Cyclone_Gas_Outlet_Temp_zscore, Cyclone_Inlet_Draft_zscore, Z_Score_Mean]\n",
       "Index: []"
      ]
     },
     "execution_count": 52,
     "metadata": {},
     "output_type": "execute_result"
    }
   ],
   "source": [
    "data5 = data4[abs(data4[\"Z_Score_Mean\"]) > 2]\n",
    "data5.head(10)"
   ]
  },
  {
   "cell_type": "code",
   "execution_count": 53,
   "id": "0df0a074",
   "metadata": {},
   "outputs": [
    {
     "data": {
      "text/html": [
       "<div>\n",
       "<style scoped>\n",
       "    .dataframe tbody tr th:only-of-type {\n",
       "        vertical-align: middle;\n",
       "    }\n",
       "\n",
       "    .dataframe tbody tr th {\n",
       "        vertical-align: top;\n",
       "    }\n",
       "\n",
       "    .dataframe thead th {\n",
       "        text-align: right;\n",
       "    }\n",
       "</style>\n",
       "<table border=\"1\" class=\"dataframe\">\n",
       "  <thead>\n",
       "    <tr style=\"text-align: right;\">\n",
       "      <th></th>\n",
       "      <th>time</th>\n",
       "      <th>Cyclone_Inlet_Gas_Temp</th>\n",
       "      <th>Cyclone_Material_Temp</th>\n",
       "      <th>Cyclone_Outlet_Gas_draft</th>\n",
       "      <th>Cyclone_cone_draft</th>\n",
       "      <th>Cyclone_Gas_Outlet_Temp</th>\n",
       "      <th>Cyclone_Inlet_Draft</th>\n",
       "      <th>Cyclone_Inlet_Gas_Temp_zscore</th>\n",
       "      <th>Cyclone_Material_Temp_zscore</th>\n",
       "      <th>Cyclone_Outlet_Gas_draft_zscore</th>\n",
       "      <th>Cyclone_cone_draft_zscore</th>\n",
       "      <th>Cyclone_Gas_Outlet_Temp_zscore</th>\n",
       "      <th>Cyclone_Inlet_Draft_zscore</th>\n",
       "      <th>Z_Score_Mean</th>\n",
       "    </tr>\n",
       "  </thead>\n",
       "  <tbody>\n",
       "    <tr>\n",
       "      <th>75185</th>\n",
       "      <td>2017-09-19 01:25:00</td>\n",
       "      <td>907.95</td>\n",
       "      <td>1297.69</td>\n",
       "      <td>6.88</td>\n",
       "      <td>-15.48</td>\n",
       "      <td>925.12</td>\n",
       "      <td>4.70</td>\n",
       "      <td>0.549433</td>\n",
       "      <td>1.558357</td>\n",
       "      <td>1.863157</td>\n",
       "      <td>1.654926</td>\n",
       "      <td>0.643441</td>\n",
       "      <td>1.881343</td>\n",
       "      <td>1.520245</td>\n",
       "    </tr>\n",
       "    <tr>\n",
       "      <th>165890</th>\n",
       "      <td>2018-08-01 00:05:00</td>\n",
       "      <td>1056.46</td>\n",
       "      <td>1096.03</td>\n",
       "      <td>-456.66</td>\n",
       "      <td>-459.31</td>\n",
       "      <td>992.24</td>\n",
       "      <td>-396.37</td>\n",
       "      <td>1.001334</td>\n",
       "      <td>0.983699</td>\n",
       "      <td>-2.812521</td>\n",
       "      <td>-3.271248</td>\n",
       "      <td>0.849763</td>\n",
       "      <td>-3.286462</td>\n",
       "      <td>-1.507354</td>\n",
       "    </tr>\n",
       "    <tr>\n",
       "      <th>178952</th>\n",
       "      <td>2018-09-15 08:35:00</td>\n",
       "      <td>906.37</td>\n",
       "      <td>1069.77</td>\n",
       "      <td>-130.48</td>\n",
       "      <td>488.86</td>\n",
       "      <td>874.63</td>\n",
       "      <td>-94.94</td>\n",
       "      <td>0.544625</td>\n",
       "      <td>0.908868</td>\n",
       "      <td>0.477622</td>\n",
       "      <td>7.252715</td>\n",
       "      <td>0.488238</td>\n",
       "      <td>0.597477</td>\n",
       "      <td>1.944984</td>\n",
       "    </tr>\n",
       "    <tr>\n",
       "      <th>178954</th>\n",
       "      <td>2018-09-15 08:45:00</td>\n",
       "      <td>781.91</td>\n",
       "      <td>1100.67</td>\n",
       "      <td>-20.05</td>\n",
       "      <td>137.39</td>\n",
       "      <td>790.21</td>\n",
       "      <td>-10.04</td>\n",
       "      <td>0.165905</td>\n",
       "      <td>0.996922</td>\n",
       "      <td>1.591517</td>\n",
       "      <td>3.351666</td>\n",
       "      <td>0.228736</td>\n",
       "      <td>1.691418</td>\n",
       "      <td>1.572052</td>\n",
       "    </tr>\n",
       "    <tr>\n",
       "      <th>322601</th>\n",
       "      <td>2020-01-29 03:10:00</td>\n",
       "      <td>864.24</td>\n",
       "      <td>1083.54</td>\n",
       "      <td>34.27</td>\n",
       "      <td>17.90</td>\n",
       "      <td>884.17</td>\n",
       "      <td>36.87</td>\n",
       "      <td>0.416427</td>\n",
       "      <td>0.948107</td>\n",
       "      <td>2.139437</td>\n",
       "      <td>2.025418</td>\n",
       "      <td>0.517563</td>\n",
       "      <td>2.295855</td>\n",
       "      <td>1.585276</td>\n",
       "    </tr>\n",
       "    <tr>\n",
       "      <th>322602</th>\n",
       "      <td>2020-01-29 03:15:00</td>\n",
       "      <td>851.89</td>\n",
       "      <td>1082.02</td>\n",
       "      <td>30.94</td>\n",
       "      <td>14.31</td>\n",
       "      <td>901.62</td>\n",
       "      <td>32.80</td>\n",
       "      <td>0.378848</td>\n",
       "      <td>0.943776</td>\n",
       "      <td>2.105848</td>\n",
       "      <td>1.985572</td>\n",
       "      <td>0.571203</td>\n",
       "      <td>2.243413</td>\n",
       "      <td>1.569962</td>\n",
       "    </tr>\n",
       "    <tr>\n",
       "      <th>322603</th>\n",
       "      <td>2020-01-29 03:20:00</td>\n",
       "      <td>846.36</td>\n",
       "      <td>1132.42</td>\n",
       "      <td>25.41</td>\n",
       "      <td>9.43</td>\n",
       "      <td>888.69</td>\n",
       "      <td>28.07</td>\n",
       "      <td>0.362020</td>\n",
       "      <td>1.087398</td>\n",
       "      <td>2.050067</td>\n",
       "      <td>1.931408</td>\n",
       "      <td>0.531457</td>\n",
       "      <td>2.182467</td>\n",
       "      <td>1.556559</td>\n",
       "    </tr>\n",
       "  </tbody>\n",
       "</table>\n",
       "</div>"
      ],
      "text/plain": [
       "                      time  Cyclone_Inlet_Gas_Temp  Cyclone_Material_Temp  \\\n",
       "75185  2017-09-19 01:25:00                  907.95                1297.69   \n",
       "165890 2018-08-01 00:05:00                 1056.46                1096.03   \n",
       "178952 2018-09-15 08:35:00                  906.37                1069.77   \n",
       "178954 2018-09-15 08:45:00                  781.91                1100.67   \n",
       "322601 2020-01-29 03:10:00                  864.24                1083.54   \n",
       "322602 2020-01-29 03:15:00                  851.89                1082.02   \n",
       "322603 2020-01-29 03:20:00                  846.36                1132.42   \n",
       "\n",
       "        Cyclone_Outlet_Gas_draft  Cyclone_cone_draft  Cyclone_Gas_Outlet_Temp  \\\n",
       "75185                       6.88              -15.48                   925.12   \n",
       "165890                   -456.66             -459.31                   992.24   \n",
       "178952                   -130.48              488.86                   874.63   \n",
       "178954                    -20.05              137.39                   790.21   \n",
       "322601                     34.27               17.90                   884.17   \n",
       "322602                     30.94               14.31                   901.62   \n",
       "322603                     25.41                9.43                   888.69   \n",
       "\n",
       "        Cyclone_Inlet_Draft  Cyclone_Inlet_Gas_Temp_zscore  \\\n",
       "75185                  4.70                       0.549433   \n",
       "165890              -396.37                       1.001334   \n",
       "178952               -94.94                       0.544625   \n",
       "178954               -10.04                       0.165905   \n",
       "322601                36.87                       0.416427   \n",
       "322602                32.80                       0.378848   \n",
       "322603                28.07                       0.362020   \n",
       "\n",
       "        Cyclone_Material_Temp_zscore  Cyclone_Outlet_Gas_draft_zscore  \\\n",
       "75185                       1.558357                         1.863157   \n",
       "165890                      0.983699                        -2.812521   \n",
       "178952                      0.908868                         0.477622   \n",
       "178954                      0.996922                         1.591517   \n",
       "322601                      0.948107                         2.139437   \n",
       "322602                      0.943776                         2.105848   \n",
       "322603                      1.087398                         2.050067   \n",
       "\n",
       "        Cyclone_cone_draft_zscore  Cyclone_Gas_Outlet_Temp_zscore  \\\n",
       "75185                    1.654926                        0.643441   \n",
       "165890                  -3.271248                        0.849763   \n",
       "178952                   7.252715                        0.488238   \n",
       "178954                   3.351666                        0.228736   \n",
       "322601                   2.025418                        0.517563   \n",
       "322602                   1.985572                        0.571203   \n",
       "322603                   1.931408                        0.531457   \n",
       "\n",
       "        Cyclone_Inlet_Draft_zscore  Z_Score_Mean  \n",
       "75185                     1.881343      1.520245  \n",
       "165890                   -3.286462     -1.507354  \n",
       "178952                    0.597477      1.944984  \n",
       "178954                    1.691418      1.572052  \n",
       "322601                    2.295855      1.585276  \n",
       "322602                    2.243413      1.569962  \n",
       "322603                    2.182467      1.556559  "
      ]
     },
     "execution_count": 53,
     "metadata": {},
     "output_type": "execute_result"
    }
   ],
   "source": [
    "data5 = data4[abs(data4[\"Z_Score_Mean\"]) > 1.5]\n",
    "data5.head(10)"
   ]
  },
  {
   "cell_type": "code",
   "execution_count": 54,
   "id": "b7682c40",
   "metadata": {},
   "outputs": [
    {
     "data": {
      "text/plain": [
       "(7, 14)"
      ]
     },
     "execution_count": 54,
     "metadata": {},
     "output_type": "execute_result"
    }
   ],
   "source": [
    "data5.shape"
   ]
  },
  {
   "cell_type": "markdown",
   "id": "ae1ef2e8",
   "metadata": {},
   "source": [
    "#### Here, there are no instances having a mean Z-Score above 3 even though there exists individual variable wise Z-Scores above 3. But, considering the fact that we are proceeding with the mean Z-Scores, it's fine to fix the threshold to a lower value as mean values tend to get lower when there exists a mixture of few higher and many lower values\n",
    "\n",
    "#### Fixing the threshold to 2 too didn't yield us any instances. So, we finally fix the threshold to 1.5 making us capture 7 records/instances that can be potential instances of abnormal conditions thus concluding this study"
   ]
  }
 ],
 "metadata": {
  "kernelspec": {
   "display_name": "Python 3 (ipykernel)",
   "language": "python",
   "name": "python3"
  },
  "language_info": {
   "codemirror_mode": {
    "name": "ipython",
    "version": 3
   },
   "file_extension": ".py",
   "mimetype": "text/x-python",
   "name": "python",
   "nbconvert_exporter": "python",
   "pygments_lexer": "ipython3",
   "version": "3.9.12"
  }
 },
 "nbformat": 4,
 "nbformat_minor": 5
}
